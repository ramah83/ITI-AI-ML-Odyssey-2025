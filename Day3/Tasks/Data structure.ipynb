{
 "cells": [
  {
   "cell_type": "markdown",
   "id": "da1b5a9d",
   "metadata": {},
   "source": [
    "<div style=\"text-align: center;\">\n",
    "    <h1 style=\"\n",
    "        background: linear-gradient(135deg, hsla(0, 0%, 100%, 1.00), #4e454aff); \n",
    "        color: white; \n",
    "        padding: 15px 30px; \n",
    "        border-radius: 500px; \n",
    "        font-family: 'Segoe UI', Arial, sans-serif; \n",
    "        box-shadow: 0 4px 15px rgba(0,0,0,0.3);\n",
    "        display: inline-block;\n",
    "    \">\n",
    "        Data Structure\n",
    "    </h1>\n",
    "</div>\n"
   ]
  },
  {
   "cell_type": "markdown",
   "id": "154aa11c",
   "metadata": {},
   "source": [
    "<h3 style=\"color:#FFFFFF\"><strong>1. We need to print 0,3,6,9,12 using for loop</strong></h3>"
   ]
  },
  {
   "cell_type": "code",
   "execution_count": 2,
   "id": "cd6c93fe",
   "metadata": {},
   "outputs": [
    {
     "name": "stdout",
     "output_type": "stream",
     "text": [
      "0 3 6 9 12 "
     ]
    }
   ],
   "source": [
    "for i in range(0,13,3):\n",
    "    print(i,end=\" \")"
   ]
  },
  {
   "cell_type": "markdown",
   "id": "05045495",
   "metadata": {},
   "source": [
    "<h4 style=\"color:#FFFFFF; display:inline;\"><strong>2. We need to print 0 ,3 ,6 ,9 ,12 and index of positions using for loop </strong></h4>\n",
    "<h6 style=\"color:#FFFFFF; display:inline; margin-left:8px;\">hint: enumerate function</h6>"
   ]
  },
  {
   "cell_type": "code",
   "execution_count": 3,
   "id": "c663dbd5",
   "metadata": {},
   "outputs": [
    {
     "name": "stdout",
     "output_type": "stream",
     "text": [
      "Index: 0, Value: 0 Index: 1, Value: 3 Index: 2, Value: 6 Index: 3, Value: 9 Index: 4, Value: 12 "
     ]
    }
   ],
   "source": [
    "for i,j in enumerate(range(0,13,3)):\n",
    "    print(f\"Index: {i}, Value: {j}\", end=\" \")"
   ]
  },
  {
   "cell_type": "markdown",
   "id": "9783400d",
   "metadata": {},
   "source": [
    "<h3 style=\"color:#FFFFFF\"><strong>3. Given a list of numbers. write a program to turn every item of a list into its\n",
    "square</strong></h3>"
   ]
  },
  {
   "cell_type": "code",
   "execution_count": 6,
   "id": "6b9524ac",
   "metadata": {},
   "outputs": [
    {
     "data": {
      "text/plain": [
       "[1, 4, 9, 16, 25]"
      ]
     },
     "execution_count": 6,
     "metadata": {},
     "output_type": "execute_result"
    }
   ],
   "source": [
    "list = [1, 2, 3, 4, 5]\n",
    "sqlist=[i**2 for i in list]\n",
    "sqlist"
   ]
  },
  {
   "cell_type": "markdown",
   "id": "97a8a8c8",
   "metadata": {},
   "source": [
    "<h3 style=\"color:#FFFFFF\"><strong>4. write a program to Concatenate two lists</strong></h3>"
   ]
  },
  {
   "cell_type": "code",
   "execution_count": 8,
   "id": "6de7999a",
   "metadata": {},
   "outputs": [
    {
     "data": {
      "text/plain": [
       "[1, 2, 3, 4, 5, 6, 7, 8, 9, 10]"
      ]
     },
     "execution_count": 8,
     "metadata": {},
     "output_type": "execute_result"
    }
   ],
   "source": [
    "list1 = [1, 2, 3, 4, 5]\n",
    "list2 = [6, 7, 8, 9, 10]\n",
    "all = list1 + list2\n",
    "all"
   ]
  },
  {
   "cell_type": "markdown",
   "id": "22f2c9f5",
   "metadata": {},
   "source": [
    "<h3 style=\"color:#FFFFFF\"><strong>5. write a program to Reverse the tuple</strong></h3>"
   ]
  },
  {
   "cell_type": "code",
   "execution_count": 11,
   "id": "3cd21ddd",
   "metadata": {},
   "outputs": [
    {
     "data": {
      "text/plain": [
       "(5, 4, 3, 2, 1)"
      ]
     },
     "execution_count": 11,
     "metadata": {},
     "output_type": "execute_result"
    }
   ],
   "source": [
    "tuple=(1, 2, 3, 4, 5)\n",
    "revtuple=tuple[::-1]\n",
    "revtuple"
   ]
  },
  {
   "cell_type": "markdown",
   "id": "5775a60e",
   "metadata": {},
   "source": [
    "<h3 style=\"color:#FFFFFF\"><strong>6. Convert two lists into a dictionary</strong></h3>"
   ]
  },
  {
   "cell_type": "code",
   "execution_count": 9,
   "id": "38349a5c",
   "metadata": {},
   "outputs": [
    {
     "data": {
      "text/plain": [
       "{0: 1, 1: 2, 2: 3, 3: 4, 4: 5, 5: 6}"
      ]
     },
     "execution_count": 9,
     "metadata": {},
     "output_type": "execute_result"
    }
   ],
   "source": [
    "list1 = [0, 1, 2, 3, 4, 5]\n",
    "list2 = [1, 2, 3, 4, 5, 6]\n",
    "dict=dict(zip(list1, list2))\n",
    "dict"
   ]
  },
  {
   "cell_type": "markdown",
   "id": "fe04df4b",
   "metadata": {},
   "source": [
    "<h4 style=\"color:#FFFFFF\"><strong>7. Write a function called sum_numbers that takes in any number of arguments\n",
    "and returns their sum</strong></h4>"
   ]
  },
  {
   "cell_type": "code",
   "execution_count": 12,
   "id": "391bf6dc",
   "metadata": {},
   "outputs": [
    {
     "data": {
      "text/plain": [
       "15"
      ]
     },
     "execution_count": 12,
     "metadata": {},
     "output_type": "execute_result"
    }
   ],
   "source": [
    "def sum_numbers(*args):\n",
    "    return sum(args)\n",
    "arr = [1, 2, 3, 4, 5]\n",
    "sum_numbers(*arr)"
   ]
  },
  {
   "cell_type": "markdown",
   "id": "fd34883d",
   "metadata": {},
   "source": [
    "<h3 style=\"color:#FFFFFF\"><strong>8. create program using map function to upper each char in list of strings.</strong></h3>"
   ]
  },
  {
   "cell_type": "code",
   "execution_count": 21,
   "id": "2461d848",
   "metadata": {},
   "outputs": [
    {
     "name": "stdout",
     "output_type": "stream",
     "text": [
      "['MOHAMED'] ['KHALED'] ['RAMMAH'] "
     ]
    }
   ],
   "source": [
    "def upper(*s):\n",
    "    return [i.upper() for i in s]\n",
    "list = [\"mohamed\", \"khaled\", \"rammah\"]\n",
    "str = map(upper, list)\n",
    "for i in str:\n",
    "    print(i, end=\" \")"
   ]
  },
  {
   "cell_type": "markdown",
   "id": "5f1987df",
   "metadata": {},
   "source": [
    "<h3 style=\"color:#FFFFFF\"><strong>9. concatenate string using kwargs.</strong></h3>"
   ]
  },
  {
   "cell_type": "code",
   "execution_count": 23,
   "id": "73d3fb8b",
   "metadata": {},
   "outputs": [
    {
     "data": {
      "text/plain": [
       "'mohamed khaled rammah'"
      ]
     },
     "execution_count": 23,
     "metadata": {},
     "output_type": "execute_result"
    }
   ],
   "source": [
    "def constr(**arr):\n",
    "    return \" \".join(arr.values())\n",
    "str1=\"mohamed\"\n",
    "str2=\"khaled\"\n",
    "str3=\"rammah\"\n",
    "result = constr(str1=str1, str2=str2, str3=str3)\n",
    "result"
   ]
  }
 ],
 "metadata": {
  "kernelspec": {
   "display_name": "base",
   "language": "python",
   "name": "python3"
  },
  "language_info": {
   "codemirror_mode": {
    "name": "ipython",
    "version": 3
   },
   "file_extension": ".py",
   "mimetype": "text/x-python",
   "name": "python",
   "nbconvert_exporter": "python",
   "pygments_lexer": "ipython3",
   "version": "3.13.5"
  }
 },
 "nbformat": 4,
 "nbformat_minor": 5
}
