{
 "cells": [
  {
   "cell_type": "markdown",
   "id": "7b3688bc",
   "metadata": {},
   "source": [
    "# What is NumPy?"
   ]
  },
  {
   "cell_type": "markdown",
   "id": "63716158",
   "metadata": {},
   "source": [
    "**1- NumPy is a Python library used for working with arrays.**\n",
    "\n",
    "**2- It also has functions for working in domain of linear algebra, fourier transform, and matrices.**\n",
    "\n",
    "**3- NumPy was created in 2005 by Travis Oliphant. It is an open source project and you can use it freely.**\n",
    "\n",
    "**4- NumPy stands for Numerical Python.**\n",
    "\n",
    "**5- It uses Basic Linear Algebra Subprograms (BLAS) is a collection of high performance functions that provide basic tools for linear algebra related tasks.**\n",
    "\n",
    "**6- NumPy is a python library and is written partially in Python, but most of the parts that require fast computations are written in C , C++ and Fortran.**"
   ]
  },
  {
   "cell_type": "markdown",
   "id": "22f8f120",
   "metadata": {},
   "source": [
    "# Why Use NumPy?"
   ]
  },
  {
   "cell_type": "markdown",
   "id": "27ee3efa",
   "metadata": {},
   "source": [
    "**1- In Python we have lists that serve the purpose of arrays, but they are slow to process.**\n",
    "\n",
    "**2- NumPy aims to provide an array object that is up to 50x faster than traditional Python lists.**\n",
    "\n",
    "**3- The array object in NumPy is called ndarray, it provides a lot of supporting functions that make working with ndarray very easy.**\n",
    "\n",
    "**4- Arrays are very frequently used in data science, where speed and resources are very important.**"
   ]
  },
  {
   "cell_type": "markdown",
   "id": "3b079ad0",
   "metadata": {},
   "source": [
    "# Lets Start =>"
   ]
  },
  {
   "cell_type": "code",
   "execution_count": 28,
   "id": "f7fc0425",
   "metadata": {},
   "outputs": [],
   "source": [
    "import numpy as np"
   ]
  },
  {
   "cell_type": "markdown",
   "id": "ffc14b2b",
   "metadata": {},
   "source": [
    "## 1) Intro to NumPy"
   ]
  },
  {
   "cell_type": "code",
   "execution_count": 30,
   "id": "67a42eba",
   "metadata": {},
   "outputs": [
    {
     "data": {
      "text/plain": [
       "array([ 1,  2,  3,  4,  5,  6,  7,  8,  9, 10, 11, 12])"
      ]
     },
     "execution_count": 30,
     "metadata": {},
     "output_type": "execute_result"
    }
   ],
   "source": [
    "np1 = np.array([1,2,3,4,5,6,7,8,9,10,11,12])\n",
    "np1"
   ]
  },
  {
   "cell_type": "code",
   "execution_count": 32,
   "id": "ab3b08c8",
   "metadata": {},
   "outputs": [
    {
     "data": {
      "text/plain": [
       "(12,)"
      ]
     },
     "execution_count": 32,
     "metadata": {},
     "output_type": "execute_result"
    }
   ],
   "source": [
    "np1.shape"
   ]
  },
  {
   "cell_type": "code",
   "execution_count": 33,
   "id": "76c41674",
   "metadata": {},
   "outputs": [
    {
     "data": {
      "text/plain": [
       "12"
      ]
     },
     "execution_count": 33,
     "metadata": {},
     "output_type": "execute_result"
    }
   ],
   "source": [
    "np.size(np1)"
   ]
  },
  {
   "cell_type": "code",
   "execution_count": 35,
   "id": "de111220",
   "metadata": {},
   "outputs": [
    {
     "data": {
      "text/plain": [
       "array([ 0,  1,  2,  3,  4,  5,  6,  7,  8,  9, 10, 11])"
      ]
     },
     "execution_count": 35,
     "metadata": {},
     "output_type": "execute_result"
    }
   ],
   "source": [
    "np2=np.arange(12)\n",
    "np2"
   ]
  },
  {
   "cell_type": "code",
   "execution_count": 37,
   "id": "6958a471",
   "metadata": {},
   "outputs": [
    {
     "data": {
      "text/plain": [
       "array([ 5,  7,  9, 11, 13, 15, 17])"
      ]
     },
     "execution_count": 37,
     "metadata": {},
     "output_type": "execute_result"
    }
   ],
   "source": [
    "np3=np.arange(5,18,2)\n",
    "np3"
   ]
  },
  {
   "cell_type": "code",
   "execution_count": 39,
   "id": "e503387a",
   "metadata": {},
   "outputs": [
    {
     "data": {
      "text/plain": [
       "array([0., 0., 0., 0., 0., 0., 0., 0., 0., 0.])"
      ]
     },
     "execution_count": 39,
     "metadata": {},
     "output_type": "execute_result"
    }
   ],
   "source": [
    "np4 = np.zeros(10)\n",
    "np4"
   ]
  },
  {
   "cell_type": "code",
   "execution_count": 40,
   "id": "54b122fc",
   "metadata": {},
   "outputs": [
    {
     "data": {
      "text/plain": [
       "array([[0., 0., 0., 0., 0., 0., 0., 0., 0., 0.],\n",
       "       [0., 0., 0., 0., 0., 0., 0., 0., 0., 0.]])"
      ]
     },
     "execution_count": 40,
     "metadata": {},
     "output_type": "execute_result"
    }
   ],
   "source": [
    "np5 = np.zeros((2,10))\n",
    "np5"
   ]
  },
  {
   "cell_type": "code",
   "execution_count": 42,
   "id": "eb80971e",
   "metadata": {},
   "outputs": [
    {
     "name": "stdout",
     "output_type": "stream",
     "text": [
      "(10,)\n"
     ]
    }
   ],
   "source": [
    "np6 = np.full((10),6)\n",
    "np6\n",
    "print(np6.shape)"
   ]
  },
  {
   "cell_type": "code",
   "execution_count": 43,
   "id": "c21583e5",
   "metadata": {},
   "outputs": [
    {
     "data": {
      "text/plain": [
       "array([[6, 6, 6, 6, 6, 6, 6, 6, 6, 6],\n",
       "       [6, 6, 6, 6, 6, 6, 6, 6, 6, 6]])"
      ]
     },
     "execution_count": 43,
     "metadata": {},
     "output_type": "execute_result"
    }
   ],
   "source": [
    "np7 = np.full((2,10),6)\n",
    "np7"
   ]
  },
  {
   "cell_type": "code",
   "execution_count": 44,
   "id": "bf7fe910",
   "metadata": {},
   "outputs": [
    {
     "data": {
      "text/plain": [
       "array([ 1,  2,  3,  4,  5,  6,  7,  8,  9, 10])"
      ]
     },
     "execution_count": 44,
     "metadata": {},
     "output_type": "execute_result"
    }
   ],
   "source": [
    "my_lst = [1,2,3,4,5,6,7,8,9,10]\n",
    "np8 = np.array(my_lst)\n",
    "np8"
   ]
  },
  {
   "cell_type": "code",
   "execution_count": 46,
   "id": "5cd1398e",
   "metadata": {},
   "outputs": [
    {
     "data": {
      "text/plain": [
       "array([[1., 1., 1., 1., 1., 1., 1., 1., 1., 1.],\n",
       "       [1., 1., 1., 1., 1., 1., 1., 1., 1., 1.]])"
      ]
     },
     "execution_count": 46,
     "metadata": {},
     "output_type": "execute_result"
    }
   ],
   "source": [
    "np9 = np.ones((2,10))\n",
    "np9"
   ]
  },
  {
   "cell_type": "markdown",
   "id": "815c7d19",
   "metadata": {},
   "source": [
    "## 2) Indexing & Slicing Numpy Arrays"
   ]
  },
  {
   "cell_type": "code",
   "execution_count": 47,
   "id": "87efae30",
   "metadata": {},
   "outputs": [],
   "source": [
    "np1 = np.array([1,2,3,4,5,6,7,8,9])"
   ]
  },
  {
   "cell_type": "code",
   "execution_count": 22,
   "id": "c665e3d7",
   "metadata": {},
   "outputs": [],
   "source": [
    "#1-D array"
   ]
  },
  {
   "cell_type": "code",
   "execution_count": 48,
   "id": "cfeef2a4",
   "metadata": {},
   "outputs": [
    {
     "data": {
      "text/plain": [
       "array([2, 3, 4, 5])"
      ]
     },
     "execution_count": 48,
     "metadata": {},
     "output_type": "execute_result"
    }
   ],
   "source": [
    "np1[1:5]"
   ]
  },
  {
   "cell_type": "code",
   "execution_count": 49,
   "id": "1480cf83",
   "metadata": {},
   "outputs": [
    {
     "data": {
      "text/plain": [
       "array([4, 5, 6, 7, 8, 9])"
      ]
     },
     "execution_count": 49,
     "metadata": {},
     "output_type": "execute_result"
    }
   ],
   "source": [
    "np1[3:]"
   ]
  },
  {
   "cell_type": "code",
   "execution_count": 50,
   "id": "49537db4",
   "metadata": {},
   "outputs": [
    {
     "data": {
      "text/plain": [
       "array([7, 8])"
      ]
     },
     "execution_count": 50,
     "metadata": {},
     "output_type": "execute_result"
    }
   ],
   "source": [
    "np1[-3:-1]"
   ]
  },
  {
   "cell_type": "code",
   "execution_count": 51,
   "id": "403a28cf",
   "metadata": {},
   "outputs": [
    {
     "data": {
      "text/plain": [
       "array([2, 4])"
      ]
     },
     "execution_count": 51,
     "metadata": {},
     "output_type": "execute_result"
    }
   ],
   "source": [
    "np1[1:5:2]"
   ]
  },
  {
   "cell_type": "code",
   "execution_count": 53,
   "id": "320775e4",
   "metadata": {},
   "outputs": [
    {
     "data": {
      "text/plain": [
       "3"
      ]
     },
     "execution_count": 53,
     "metadata": {},
     "output_type": "execute_result"
    }
   ],
   "source": [
    "np1[2]"
   ]
  },
  {
   "cell_type": "code",
   "execution_count": 23,
   "id": "811dac04",
   "metadata": {},
   "outputs": [],
   "source": [
    "#2D array"
   ]
  },
  {
   "cell_type": "code",
   "execution_count": 54,
   "id": "a2ee342d",
   "metadata": {},
   "outputs": [],
   "source": [
    "np2 = np.array([[1,2,3,4,5],[6,7,8,9,10]])"
   ]
  },
  {
   "cell_type": "code",
   "execution_count": 55,
   "id": "d194ce0c",
   "metadata": {},
   "outputs": [
    {
     "data": {
      "text/plain": [
       "8"
      ]
     },
     "execution_count": 55,
     "metadata": {},
     "output_type": "execute_result"
    }
   ],
   "source": [
    "np2[1,2]"
   ]
  },
  {
   "cell_type": "code",
   "execution_count": 56,
   "id": "a1c9f4cc",
   "metadata": {},
   "outputs": [
    {
     "data": {
      "text/plain": [
       "array([[2, 3]])"
      ]
     },
     "execution_count": 56,
     "metadata": {},
     "output_type": "execute_result"
    }
   ],
   "source": [
    "np2[0:1,1:3]"
   ]
  },
  {
   "cell_type": "code",
   "execution_count": 57,
   "id": "1fb1ce6d",
   "metadata": {},
   "outputs": [
    {
     "data": {
      "text/plain": [
       "array([[2, 3],\n",
       "       [7, 8]])"
      ]
     },
     "execution_count": 57,
     "metadata": {},
     "output_type": "execute_result"
    }
   ],
   "source": [
    "np2[0:2,1:3]"
   ]
  },
  {
   "cell_type": "markdown",
   "id": "34938a96",
   "metadata": {},
   "source": [
    "## 3) Numpy Universal Functions"
   ]
  },
  {
   "cell_type": "code",
   "execution_count": 61,
   "id": "32ca1c94",
   "metadata": {},
   "outputs": [],
   "source": [
    "np1 = np.array([0,1,2,3,4,5,6,7,8,9,-100])"
   ]
  },
  {
   "cell_type": "code",
   "execution_count": 59,
   "id": "a8c4cfd3",
   "metadata": {},
   "outputs": [
    {
     "name": "stdout",
     "output_type": "stream",
     "text": [
      "[0.         1.         1.41421356 1.73205081 2.         2.23606798\n",
      " 2.44948974 2.64575131 2.82842712 3.        ]\n"
     ]
    }
   ],
   "source": [
    "#square root of each element\n",
    "print(np.sqrt(np1))"
   ]
  },
  {
   "cell_type": "code",
   "execution_count": 62,
   "id": "8a5ca45a",
   "metadata": {},
   "outputs": [
    {
     "name": "stdout",
     "output_type": "stream",
     "text": [
      "[  0   1   2   3   4   5   6   7   8   9 100]\n"
     ]
    }
   ],
   "source": [
    "#absoulute value\n",
    "print(np.absolute(np1))"
   ]
  },
  {
   "cell_type": "code",
   "execution_count": 63,
   "id": "790ee667",
   "metadata": {},
   "outputs": [
    {
     "data": {
      "text/plain": [
       "array([1.00000000e+00, 2.71828183e+00, 7.38905610e+00, 2.00855369e+01,\n",
       "       5.45981500e+01, 1.48413159e+02, 4.03428793e+02, 1.09663316e+03,\n",
       "       2.98095799e+03, 8.10308393e+03, 3.72007598e-44])"
      ]
     },
     "execution_count": 63,
     "metadata": {},
     "output_type": "execute_result"
    }
   ],
   "source": [
    "#exponentials\n",
    "np.exp(np1)"
   ]
  },
  {
   "cell_type": "code",
   "execution_count": 65,
   "id": "56d98cc8",
   "metadata": {},
   "outputs": [
    {
     "name": "stdout",
     "output_type": "stream",
     "text": [
      "9\n",
      "-100\n"
     ]
    }
   ],
   "source": [
    "#min max\n",
    "print(np.max(np1))\n",
    "print(np.min(np1))"
   ]
  },
  {
   "cell_type": "code",
   "execution_count": 66,
   "id": "207222b5",
   "metadata": {},
   "outputs": [
    {
     "data": {
      "text/plain": [
       "array([ 0,  1,  1,  1,  1,  1,  1,  1,  1,  1, -1])"
      ]
     },
     "execution_count": 66,
     "metadata": {},
     "output_type": "execute_result"
    }
   ],
   "source": [
    "#sign positive or negative\n",
    "np.sign(np1)"
   ]
  },
  {
   "cell_type": "code",
   "execution_count": 68,
   "id": "0818ece0",
   "metadata": {},
   "outputs": [
    {
     "name": "stdout",
     "output_type": "stream",
     "text": [
      "[ 0.          0.84147098  0.90929743  0.14112001 -0.7568025  -0.95892427\n",
      " -0.2794155   0.6569866   0.98935825  0.41211849  0.50636564]\n",
      "[ 1.          0.54030231 -0.41614684 -0.9899925  -0.65364362  0.28366219\n",
      "  0.96017029  0.75390225 -0.14550003 -0.91113026  0.86231887]\n",
      "[      -inf 0.         0.69314718 1.09861229 1.38629436 1.60943791\n",
      " 1.79175947 1.94591015 2.07944154 2.19722458        nan]\n"
     ]
    },
    {
     "name": "stderr",
     "output_type": "stream",
     "text": [
      "/tmp/ipykernel_15895/3860036235.py:4: RuntimeWarning: divide by zero encountered in log\n",
      "  print(np.log(np1))\n",
      "/tmp/ipykernel_15895/3860036235.py:4: RuntimeWarning: invalid value encountered in log\n",
      "  print(np.log(np1))\n"
     ]
    }
   ],
   "source": [
    "#Trig sin cos log\n",
    "print(np.sin(np1))\n",
    "print(np.cos(np1))\n",
    "print(np.log(np1))"
   ]
  },
  {
   "cell_type": "markdown",
   "id": "5c00f5a9",
   "metadata": {},
   "source": [
    "## 4) NumPy Array Copy vs. View"
   ]
  },
  {
   "cell_type": "code",
   "execution_count": 84,
   "id": "4e95bc2b",
   "metadata": {},
   "outputs": [],
   "source": [
    "np1 = np.array([0,1,2,3,4,5])"
   ]
  },
  {
   "cell_type": "code",
   "execution_count": 70,
   "id": "20147806",
   "metadata": {},
   "outputs": [],
   "source": [
    "#create a view\n",
    "np2 = np1.view()"
   ]
  },
  {
   "cell_type": "code",
   "execution_count": 71,
   "id": "3b6ab903",
   "metadata": {},
   "outputs": [
    {
     "data": {
      "text/plain": [
       "array([0, 1, 2, 3, 4, 5])"
      ]
     },
     "execution_count": 71,
     "metadata": {},
     "output_type": "execute_result"
    }
   ],
   "source": [
    "np1"
   ]
  },
  {
   "cell_type": "code",
   "execution_count": 72,
   "id": "3d2f54ed",
   "metadata": {},
   "outputs": [
    {
     "data": {
      "text/plain": [
       "array([0, 1, 2, 3, 4, 5])"
      ]
     },
     "execution_count": 72,
     "metadata": {},
     "output_type": "execute_result"
    }
   ],
   "source": [
    "np2"
   ]
  },
  {
   "cell_type": "code",
   "execution_count": 73,
   "id": "850de7a1",
   "metadata": {},
   "outputs": [],
   "source": [
    "np1[0]=41"
   ]
  },
  {
   "cell_type": "code",
   "execution_count": 74,
   "id": "10b8acce",
   "metadata": {},
   "outputs": [
    {
     "data": {
      "text/plain": [
       "array([41,  1,  2,  3,  4,  5])"
      ]
     },
     "execution_count": 74,
     "metadata": {},
     "output_type": "execute_result"
    }
   ],
   "source": [
    "np1"
   ]
  },
  {
   "cell_type": "code",
   "execution_count": 75,
   "id": "9c1c7f80",
   "metadata": {},
   "outputs": [
    {
     "data": {
      "text/plain": [
       "array([41,  1,  2,  3,  4,  5])"
      ]
     },
     "execution_count": 75,
     "metadata": {},
     "output_type": "execute_result"
    }
   ],
   "source": [
    "np2"
   ]
  },
  {
   "cell_type": "code",
   "execution_count": 85,
   "id": "3f296dd4",
   "metadata": {},
   "outputs": [],
   "source": [
    "#create a copy\n",
    "np2 = np1.copy()"
   ]
  },
  {
   "cell_type": "code",
   "execution_count": 86,
   "id": "9da706b5",
   "metadata": {},
   "outputs": [
    {
     "data": {
      "text/plain": [
       "array([0, 1, 2, 3, 4, 5])"
      ]
     },
     "execution_count": 86,
     "metadata": {},
     "output_type": "execute_result"
    }
   ],
   "source": [
    "np1"
   ]
  },
  {
   "cell_type": "code",
   "execution_count": 87,
   "id": "611f7197",
   "metadata": {},
   "outputs": [
    {
     "data": {
      "text/plain": [
       "array([0, 1, 2, 3, 4, 5])"
      ]
     },
     "execution_count": 87,
     "metadata": {},
     "output_type": "execute_result"
    }
   ],
   "source": [
    "np2"
   ]
  },
  {
   "cell_type": "code",
   "execution_count": 81,
   "id": "ec0f8d22",
   "metadata": {},
   "outputs": [],
   "source": [
    "np1[0] = 41"
   ]
  },
  {
   "cell_type": "code",
   "execution_count": 82,
   "id": "e1356cca",
   "metadata": {},
   "outputs": [
    {
     "data": {
      "text/plain": [
       "array([41,  1,  2,  3,  4,  5])"
      ]
     },
     "execution_count": 82,
     "metadata": {},
     "output_type": "execute_result"
    }
   ],
   "source": [
    "np1"
   ]
  },
  {
   "cell_type": "code",
   "execution_count": 83,
   "id": "49824c42",
   "metadata": {},
   "outputs": [
    {
     "data": {
      "text/plain": [
       "array([0, 1, 2, 3, 4, 5])"
      ]
     },
     "execution_count": 83,
     "metadata": {},
     "output_type": "execute_result"
    }
   ],
   "source": [
    "np2"
   ]
  },
  {
   "cell_type": "code",
   "execution_count": 88,
   "id": "6b1e807d",
   "metadata": {},
   "outputs": [],
   "source": [
    "np2[0] = 41"
   ]
  },
  {
   "cell_type": "code",
   "execution_count": 89,
   "id": "7e014e3b",
   "metadata": {},
   "outputs": [
    {
     "data": {
      "text/plain": [
       "array([0, 1, 2, 3, 4, 5])"
      ]
     },
     "execution_count": 89,
     "metadata": {},
     "output_type": "execute_result"
    }
   ],
   "source": [
    "np1"
   ]
  },
  {
   "cell_type": "code",
   "execution_count": 90,
   "id": "97861f0e",
   "metadata": {},
   "outputs": [
    {
     "data": {
      "text/plain": [
       "array([41,  1,  2,  3,  4,  5])"
      ]
     },
     "execution_count": 90,
     "metadata": {},
     "output_type": "execute_result"
    }
   ],
   "source": [
    "np2"
   ]
  },
  {
   "cell_type": "markdown",
   "id": "48b7c4a0",
   "metadata": {},
   "source": [
    "## 5) Shape & Reshape NumPy"
   ]
  },
  {
   "cell_type": "code",
   "execution_count": 91,
   "id": "94359d19",
   "metadata": {},
   "outputs": [
    {
     "data": {
      "text/plain": [
       "(12,)"
      ]
     },
     "execution_count": 91,
     "metadata": {},
     "output_type": "execute_result"
    }
   ],
   "source": [
    "#create 1-D Numpy array and get the shape\n",
    "np1 = np.array([1,2,3,4,5,6,7,8,9,10,11,12])\n",
    "np1.shape"
   ]
  },
  {
   "cell_type": "code",
   "execution_count": 93,
   "id": "55dfd425",
   "metadata": {},
   "outputs": [
    {
     "name": "stdout",
     "output_type": "stream",
     "text": [
      "[[ 1  2  3  4  5  6]\n",
      " [ 7  8  9 10 11 12]]\n",
      "(2, 6)\n"
     ]
    }
   ],
   "source": [
    "#create 2-D array and get the shape\n",
    "np2 = np.array([[1,2,3,4,5,6],[7,8,9,10,11,12]])\n",
    "print(np2)\n",
    "print(np2.shape)"
   ]
  },
  {
   "cell_type": "code",
   "execution_count": 96,
   "id": "16070d56",
   "metadata": {},
   "outputs": [
    {
     "name": "stdout",
     "output_type": "stream",
     "text": [
      "[[ 1  2  3  4]\n",
      " [ 5  6  7  8]\n",
      " [ 9 10 11 12]]\n",
      "(3, 4)\n"
     ]
    }
   ],
   "source": [
    "#reshape 2-D\n",
    "np3 = np1.reshape(3,4)\n",
    "print(np3)\n",
    "print(np3.shape)"
   ]
  },
  {
   "cell_type": "code",
   "execution_count": 97,
   "id": "e61cb35b",
   "metadata": {},
   "outputs": [
    {
     "name": "stdout",
     "output_type": "stream",
     "text": [
      "[[[ 1  2]\n",
      "  [ 3  4]\n",
      "  [ 5  6]]\n",
      "\n",
      " [[ 7  8]\n",
      "  [ 9 10]\n",
      "  [11 12]]]\n",
      "(2, 3, 2)\n"
     ]
    }
   ],
   "source": [
    "#reshape 3-D\n",
    "np4 = np1.reshape(2,3,2)\n",
    "print(np4)\n",
    "print(np4.shape)"
   ]
  },
  {
   "cell_type": "code",
   "execution_count": 100,
   "id": "0f54156c",
   "metadata": {},
   "outputs": [
    {
     "name": "stdout",
     "output_type": "stream",
     "text": [
      "[ 1  2  3  4  5  6  7  8  9 10 11 12]\n",
      "(12,)\n"
     ]
    }
   ],
   "source": [
    "#flatten to 1-D\n",
    "np5 = np4.reshape(-1)\n",
    "print(np5)\n",
    "print(np5.shape)"
   ]
  },
  {
   "cell_type": "markdown",
   "id": "7783f16f",
   "metadata": {},
   "source": [
    "## 6) Iterating Though Numpy"
   ]
  },
  {
   "cell_type": "code",
   "execution_count": 101,
   "id": "3be0c244",
   "metadata": {},
   "outputs": [
    {
     "name": "stdout",
     "output_type": "stream",
     "text": [
      "1\n",
      "2\n",
      "3\n",
      "4\n",
      "5\n",
      "6\n",
      "7\n",
      "8\n",
      "9\n",
      "10\n"
     ]
    }
   ],
   "source": [
    "#1-D\n",
    "np1 = np.array([1,2,3,4,5,6,7,8,9,10])\n",
    "for x in np1:\n",
    "    print(x)"
   ]
  },
  {
   "cell_type": "code",
   "execution_count": 102,
   "id": "578a7f95",
   "metadata": {},
   "outputs": [
    {
     "name": "stdout",
     "output_type": "stream",
     "text": [
      "[1 2 3 4 5]\n",
      "1\n",
      "2\n",
      "3\n",
      "4\n",
      "5\n",
      "[ 6  7  8  9 10]\n",
      "6\n",
      "7\n",
      "8\n",
      "9\n",
      "10\n"
     ]
    }
   ],
   "source": [
    "#2-D\n",
    "np2 = np.array([[1,2,3,4,5],[6,7,8,9,10]])\n",
    "for x in np2:\n",
    "    print(x)     #print rows\n",
    "    for y in x:\n",
    "        print(y)"
   ]
  },
  {
   "cell_type": "code",
   "execution_count": 106,
   "id": "ec9ba37b",
   "metadata": {},
   "outputs": [
    {
     "name": "stdout",
     "output_type": "stream",
     "text": [
      "[[ 1  2  3  4]\n",
      " [ 5  6  7  8]\n",
      " [ 9 10 11 12]]\n",
      "[1 2 3 4]\n",
      "1\n",
      "2\n",
      "3\n",
      "4\n",
      "[5 6 7 8]\n",
      "5\n",
      "6\n",
      "7\n",
      "8\n",
      "[ 9 10 11 12]\n",
      "9\n",
      "10\n",
      "11\n",
      "12\n"
     ]
    }
   ],
   "source": [
    "#3-D\n",
    "np3 = np.array([[[1,2,3,4],[5,6,7,8],[9,10,11,12]]])\n",
    "for x in np3:\n",
    "    print(x)\n",
    "    for y in x:\n",
    "        print(y)\n",
    "        for z in y:\n",
    "            print(z)"
   ]
  },
  {
   "cell_type": "code",
   "execution_count": 107,
   "id": "0a527ca0",
   "metadata": {},
   "outputs": [
    {
     "name": "stdout",
     "output_type": "stream",
     "text": [
      "1\n",
      "2\n",
      "3\n",
      "4\n",
      "5\n",
      "6\n",
      "7\n",
      "8\n",
      "9\n",
      "10\n",
      "11\n",
      "12\n"
     ]
    }
   ],
   "source": [
    "#summerizing\n",
    "#use np.nditer()\n",
    "\n",
    "for x in np.nditer(np3):\n",
    "    print(x)"
   ]
  },
  {
   "cell_type": "markdown",
   "id": "bf0f89de",
   "metadata": {},
   "source": [
    "## 7) Sorting NumPy Arrays"
   ]
  },
  {
   "cell_type": "code",
   "execution_count": 108,
   "id": "17bde40c",
   "metadata": {},
   "outputs": [
    {
     "name": "stdout",
     "output_type": "stream",
     "text": [
      "[0 1 2 4 6 7 9]\n"
     ]
    }
   ],
   "source": [
    "#numerical\n",
    "np1 = np.array([6,7,4,9,0,2,1])\n",
    "print(np.sort(np1))"
   ]
  },
  {
   "cell_type": "code",
   "execution_count": 109,
   "id": "42b37a7e",
   "metadata": {},
   "outputs": [
    {
     "name": "stdout",
     "output_type": "stream",
     "text": [
      "['ali' 'Tamer' 'Ahmed' 'Noura']\n",
      "['Ahmed' 'Noura' 'Tamer' 'ali']\n"
     ]
    }
   ],
   "source": [
    "#alphabitical\n",
    "np2 = np.array([\"ali\", \"Tamer\", \"Ahmed\", \"Noura\"])\n",
    "print(np2)\n",
    "print(np.sort(np2))"
   ]
  },
  {
   "cell_type": "code",
   "execution_count": 110,
   "id": "28891f19",
   "metadata": {},
   "outputs": [
    {
     "name": "stdout",
     "output_type": "stream",
     "text": [
      "[ True False False  True]\n",
      "[False False  True  True]\n"
     ]
    }
   ],
   "source": [
    "np3 = np.array([True, False, False, True])\n",
    "print(np3)\n",
    "print(np.sort(np3))"
   ]
  },
  {
   "cell_type": "code",
   "execution_count": 113,
   "id": "95d88e98",
   "metadata": {},
   "outputs": [
    {
     "name": "stdout",
     "output_type": "stream",
     "text": [
      "[6 7 4 9 0 2 1]\n",
      "[0 1 2 4 6 7 9]\n",
      "[6 7 4 9 0 2 1]\n",
      "[0 1 2 4 6 7 9]\n"
     ]
    }
   ],
   "source": [
    "print(np1)\n",
    "print(np.sort(np1))\n",
    "sorted_np1 = np.sort(np1)\n",
    "print(np1)\n",
    "print(sorted_np1)"
   ]
  },
  {
   "cell_type": "code",
   "execution_count": 116,
   "id": "14833921",
   "metadata": {},
   "outputs": [
    {
     "name": "stdout",
     "output_type": "stream",
     "text": [
      "[[6 7 1 9]\n",
      " [8 3 5 0]]\n",
      "**********\n",
      "[[1 6 7 9]\n",
      " [0 3 5 8]]\n"
     ]
    }
   ],
   "source": [
    "#2-D\n",
    "np4 = np.array([[6,7,1,9],[8,3,5,0]])\n",
    "print(np4)\n",
    "print(\"**********\")\n",
    "print(np.sort(np4))"
   ]
  },
  {
   "cell_type": "markdown",
   "id": "ca08f8b7",
   "metadata": {},
   "source": [
    "## 8) Searching NumPy Arrays"
   ]
  },
  {
   "cell_type": "code",
   "execution_count": 119,
   "id": "4d770641",
   "metadata": {},
   "outputs": [
    {
     "name": "stdout",
     "output_type": "stream",
     "text": [
      "[ 1  2  3 10  3]\n",
      "(array([3]),)\n",
      "[3]\n",
      "[10]\n"
     ]
    }
   ],
   "source": [
    "np1 = np.array([1,2,3,10,3])\n",
    "x = np.where(np1 == 10)\n",
    "print(np1)\n",
    "print(x)\n",
    "print(x[0])\n",
    "print(np1[x[0]])"
   ]
  },
  {
   "cell_type": "code",
   "execution_count": 121,
   "id": "ad990499",
   "metadata": {},
   "outputs": [
    {
     "name": "stdout",
     "output_type": "stream",
     "text": [
      "[ 1  2  3 10  3]\n",
      "[0 2 4]\n"
     ]
    }
   ],
   "source": [
    "y = np.where(np1%2==1)\n",
    "print(np1)\n",
    "print(y[0])"
   ]
  },
  {
   "cell_type": "markdown",
   "id": "b0c0a61b",
   "metadata": {},
   "source": [
    "## 9) How to Filter NumPy Arrays"
   ]
  },
  {
   "cell_type": "code",
   "execution_count": 125,
   "id": "e7560f81",
   "metadata": {},
   "outputs": [
    {
     "name": "stdout",
     "output_type": "stream",
     "text": [
      "[ 1  2  3  4  5  6  7  8  9 10]\n",
      "[True, True, False, True, False, False, False, True, True, True]\n",
      "[ 1  2  4  8  9 10]\n",
      "[ 1  2  3  4  5  6  7  8  9 10]\n"
     ]
    }
   ],
   "source": [
    "np1 = np.array([1,2,3,4,5,6,7,8,9,10])\n",
    "x = [True,True, False, True, False, False, False, True, True, True]\n",
    "print(np1)\n",
    "print(x)\n",
    "print(np1[x])\n",
    "print(np1)"
   ]
  },
  {
   "cell_type": "code",
   "execution_count": 126,
   "id": "942a0f4c",
   "metadata": {},
   "outputs": [
    {
     "name": "stdout",
     "output_type": "stream",
     "text": [
      "[ 1  2  3  4  5  6  7  8  9 10]\n",
      "[False, True, False, True, False, True, False, True, False, True]\n",
      "[ 2  4  6  8 10]\n"
     ]
    }
   ],
   "source": [
    "filtered_lst = []\n",
    "for values in np1:\n",
    "    if values % 2 ==0:\n",
    "        filtered_lst.append(True)\n",
    "    else:\n",
    "        filtered_lst.append(False)\n",
    "\n",
    "print(np1)\n",
    "print(filtered_lst)\n",
    "print(np1[filtered_lst])"
   ]
  },
  {
   "cell_type": "markdown",
   "id": "90331bd3",
   "metadata": {},
   "source": [
    "## 10) Other functions"
   ]
  },
  {
   "cell_type": "markdown",
   "id": "5f8356c4",
   "metadata": {},
   "source": [
    "transpose()\n",
    "\n",
    "ravel() = reshape(-1)\n",
    "\n",
    "print(a.sum())\n",
    "\n",
    "print(a.max())\n",
    "\n",
    "print(a.min())\n",
    "\n",
    "print(a.argmax())\n",
    "\n",
    "print(a.argmin())\n",
    "\n",
    "print(a.mean())\n",
    "\n",
    "print(a.std())"
   ]
  },
  {
   "cell_type": "code",
   "execution_count": 127,
   "id": "ff5c76d9",
   "metadata": {},
   "outputs": [
    {
     "name": "stdout",
     "output_type": "stream",
     "text": [
      "[[1 2 3]\n",
      " [4 5 6]\n",
      " [7 8 9]]\n"
     ]
    }
   ],
   "source": [
    "a = np.array([[1, 2, 3], \n",
    "              [4, 5, 6], \n",
    "              [7, 8, 9]])\n",
    "print(a)"
   ]
  },
  {
   "cell_type": "code",
   "execution_count": 128,
   "id": "13733b21",
   "metadata": {},
   "outputs": [
    {
     "name": "stdout",
     "output_type": "stream",
     "text": [
      "[[1 4 7]\n",
      " [2 5 8]\n",
      " [3 6 9]]\n"
     ]
    }
   ],
   "source": [
    "\n",
    "# Transposing the array\n",
    "a_transposed = a.transpose()\n",
    "print(a_transposed)\n"
   ]
  },
  {
   "cell_type": "code",
   "execution_count": 130,
   "id": "a605eb04",
   "metadata": {},
   "outputs": [
    {
     "name": "stdout",
     "output_type": "stream",
     "text": [
      "[1 2 3 4 5 6 7 8 9]\n",
      "[1 2 3 4 5 6 7 8 9]\n"
     ]
    }
   ],
   "source": [
    "\n",
    "# Flattening the array using ravel()\n",
    "a_raveled = a.ravel()\n",
    "print(a_raveled)\n",
    "\n",
    "a_flatten = a.flatten()\n",
    "print(a_flatten)"
   ]
  },
  {
   "cell_type": "code",
   "execution_count": 131,
   "id": "afe883c7",
   "metadata": {},
   "outputs": [
    {
     "name": "stdout",
     "output_type": "stream",
     "text": [
      "[1 2 3 4 5 6 7 8 9]\n"
     ]
    }
   ],
   "source": [
    "\n",
    "# Flattening the array using reshape(-1)\n",
    "a_reshaped = a.reshape(-1)\n",
    "print(a_reshaped)\n",
    "\n"
   ]
  },
  {
   "cell_type": "code",
   "execution_count": 132,
   "id": "e9722983",
   "metadata": {},
   "outputs": [
    {
     "name": "stdout",
     "output_type": "stream",
     "text": [
      "45\n"
     ]
    }
   ],
   "source": [
    "# Sum of all elements in the array\n",
    "sum_a = a.sum()\n",
    "print(sum_a)\n"
   ]
  },
  {
   "cell_type": "code",
   "execution_count": 133,
   "id": "c2b43644",
   "metadata": {},
   "outputs": [
    {
     "name": "stdout",
     "output_type": "stream",
     "text": [
      "9\n"
     ]
    }
   ],
   "source": [
    "\n",
    "# Maximum value in the array\n",
    "max_a = a.max()\n",
    "print(max_a)\n",
    "\n"
   ]
  },
  {
   "cell_type": "code",
   "execution_count": 134,
   "id": "4e4d6017",
   "metadata": {},
   "outputs": [
    {
     "name": "stdout",
     "output_type": "stream",
     "text": [
      "1\n"
     ]
    }
   ],
   "source": [
    "# Minimum value in the array\n",
    "min_a = a.min()\n",
    "print(min_a)\n",
    "\n"
   ]
  },
  {
   "cell_type": "code",
   "execution_count": 135,
   "id": "fe8f597b",
   "metadata": {},
   "outputs": [
    {
     "name": "stdout",
     "output_type": "stream",
     "text": [
      "8\n"
     ]
    }
   ],
   "source": [
    "# Index of the maximum value\n",
    "argmax_a = a.argmax()\n",
    "print(argmax_a)\n",
    "\n"
   ]
  },
  {
   "cell_type": "code",
   "execution_count": 136,
   "id": "7b7ddee8",
   "metadata": {},
   "outputs": [
    {
     "name": "stdout",
     "output_type": "stream",
     "text": [
      "0\n"
     ]
    }
   ],
   "source": [
    "# Index of the minimum value\n",
    "argmin_a = a.argmin()\n",
    "print(argmin_a)\n",
    "\n"
   ]
  },
  {
   "cell_type": "code",
   "execution_count": 137,
   "id": "d5d73cd6",
   "metadata": {},
   "outputs": [
    {
     "name": "stdout",
     "output_type": "stream",
     "text": [
      "5.0\n"
     ]
    }
   ],
   "source": [
    "# Mean of all elements in the array\n",
    "mean_a = a.mean()\n",
    "print(mean_a)\n"
   ]
  },
  {
   "cell_type": "code",
   "execution_count": 138,
   "id": "092f3c10",
   "metadata": {},
   "outputs": [
    {
     "name": "stdout",
     "output_type": "stream",
     "text": [
      "2.581988897471611\n"
     ]
    }
   ],
   "source": [
    "\n",
    "# Standard deviation of the array\n",
    "std_a = a.std()\n",
    "print(std_a)\n"
   ]
  },
  {
   "cell_type": "markdown",
   "id": "2232443c",
   "metadata": {},
   "source": [
    "## Resources:"
   ]
  },
  {
   "cell_type": "markdown",
   "id": "0990f89b",
   "metadata": {},
   "source": [
    "https://www.youtube.com/watch?v=gBd5cg5ELN0&list=PLCC34OHNcOtpalASMlX2HHdsLNipyyhbK&index=9\n",
    "https://www.w3schools.com/python/numpy/numpy_intro.asp"
   ]
  },
  {
   "cell_type": "code",
   "execution_count": null,
   "id": "2efc5f29",
   "metadata": {},
   "outputs": [],
   "source": []
  }
 ],
 "metadata": {
  "kernelspec": {
   "display_name": "Python 3 (ipykernel)",
   "language": "python",
   "name": "python3"
  },
  "language_info": {
   "codemirror_mode": {
    "name": "ipython",
    "version": 3
   },
   "file_extension": ".py",
   "mimetype": "text/x-python",
   "name": "python",
   "nbconvert_exporter": "python",
   "pygments_lexer": "ipython3",
   "version": "3.9.13"
  }
 },
 "nbformat": 4,
 "nbformat_minor": 5
}
