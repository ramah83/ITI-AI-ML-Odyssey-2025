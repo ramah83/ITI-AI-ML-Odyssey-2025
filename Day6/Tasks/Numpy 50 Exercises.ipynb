{
 "cells": [
  {
   "cell_type": "markdown",
   "id": "bc736aae",
   "metadata": {},
   "source": [
    "<div style=\"text-align: center;\">\n",
    "    <h1 style=\"\n",
    "        background: linear-gradient(135deg, hsla(32, 84%, 25%, 1.00), #fe8c00ff); \n",
    "        color: white; \n",
    "        padding: 15px 30px; \n",
    "        border-radius: 500px; \n",
    "        font-family: 'Segoe UI', Arial, sans-serif; \n",
    "        box-shadow: 0 4px 15px rgba(0,0,0,0.3);\n",
    "        display: inline-block;\n",
    "    \">\n",
    "        NumPy Exercises\n",
    "    </h1>\n",
    "</div>\n"
   ]
  },
  {
   "cell_type": "markdown",
   "id": "9d766c39",
   "metadata": {},
   "source": [
    "<h3 style=\"color:#DC9A3F\"><strong>1.Import the numpy package under the name (np)</strong></h3>"
   ]
  },
  {
   "cell_type": "code",
   "execution_count": 114,
   "id": "f52e6a0b",
   "metadata": {},
   "outputs": [],
   "source": [
    "import numpy as np"
   ]
  },
  {
   "cell_type": "markdown",
   "id": "9d9f4753",
   "metadata": {},
   "source": [
    "<h3 style=\"color:#DC9A3F\"><strong>2. Print the numpy version and the configuration</strong></h3>"
   ]
  },
  {
   "cell_type": "code",
   "execution_count": 115,
   "id": "b7fa5fa1",
   "metadata": {},
   "outputs": [
    {
     "data": {
      "text/plain": [
       "'2.1.3'"
      ]
     },
     "execution_count": 115,
     "metadata": {},
     "output_type": "execute_result"
    }
   ],
   "source": [
    "np.__version__"
   ]
  },
  {
   "cell_type": "markdown",
   "id": "770c1d79",
   "metadata": {},
   "source": [
    "<h3 style=\"color:#DC9A3F\"><strong>3. Create a null vector of size 10</strong></h3>"
   ]
  },
  {
   "cell_type": "code",
   "execution_count": 116,
   "id": "083c5c46",
   "metadata": {},
   "outputs": [],
   "source": [
    "vector = np.zeros(10)"
   ]
  },
  {
   "cell_type": "markdown",
   "id": "f9d8a027",
   "metadata": {},
   "source": [
    "<h3 style=\"color:#DC9A3F\"><strong>4. How to find the memory size of any array </strong></h3>"
   ]
  },
  {
   "cell_type": "code",
   "execution_count": 117,
   "id": "02b04021",
   "metadata": {},
   "outputs": [
    {
     "data": {
      "text/plain": [
       "80"
      ]
     },
     "execution_count": 117,
     "metadata": {},
     "output_type": "execute_result"
    }
   ],
   "source": [
    "vector.size * vector.itemsize\n",
    "vector.__sizeof__() \n",
    "vector.nbytes"
   ]
  },
  {
   "cell_type": "markdown",
   "id": "67f893d4",
   "metadata": {},
   "source": [
    "<h3 style=\"color:#DC9A3F\"><strong>5. How to get the documentation of the numpy add function from the command line? </strong></h3>"
   ]
  },
  {
   "cell_type": "code",
   "execution_count": 118,
   "id": "40e6b70d",
   "metadata": {},
   "outputs": [
    {
     "data": {
      "text/plain": [
       "\"add(x1, x2, /, out=None, *, where=True, casting='same_kind', order='K', dtype=None, subok=True[, signature])\\n\\nAdd arguments element-wise.\\n\\nParameters\\n----------\\nx1, x2 : array_like\\n    The arrays to be added.\\n    If ``x1.shape != x2.shape``, they must be broadcastable to a common\\n    shape (which becomes the shape of the output).\\nout : ndarray, None, or tuple of ndarray and None, optional\\n    A location into which the result is stored. If provided, it must have\\n    a shape that the inputs broadcast to. If not provided or None,\\n    a freshly-allocated array is returned. A tuple (possible only as a\\n    keyword argument) must have length equal to the number of outputs.\\nwhere : array_like, optional\\n    This condition is broadcast over the input. At locations where the\\n    condition is True, the `out` array will be set to the ufunc result.\\n    Elsewhere, the `out` array will retain its original value.\\n    Note that if an uninitialized `out` array is created via the default\\n    ``out=None``, locations within it where the condition is False will\\n    remain uninitialized.\\n**kwargs\\n    For other keyword-only arguments, see the\\n    :ref:`ufunc docs <ufuncs.kwargs>`.\\n\\nReturns\\n-------\\nadd : ndarray or scalar\\n    The sum of `x1` and `x2`, element-wise.\\n    This is a scalar if both `x1` and `x2` are scalars.\\n\\nNotes\\n-----\\nEquivalent to `x1` + `x2` in terms of array broadcasting.\\n\\nExamples\\n--------\\n>>> import numpy as np\\n>>> np.add(1.0, 4.0)\\n5.0\\n>>> x1 = np.arange(9.0).reshape((3, 3))\\n>>> x2 = np.arange(3.0)\\n>>> np.add(x1, x2)\\narray([[  0.,   2.,   4.],\\n       [  3.,   5.,   7.],\\n       [  6.,   8.,  10.]])\\n\\nThe ``+`` operator can be used as a shorthand for ``np.add`` on ndarrays.\\n\\n>>> x1 = np.arange(9.0).reshape((3, 3))\\n>>> x2 = np.arange(3.0)\\n>>> x1 + x2\\narray([[ 0.,  2.,  4.],\\n       [ 3.,  5.,  7.],\\n       [ 6.,  8., 10.]])\""
      ]
     },
     "execution_count": 118,
     "metadata": {},
     "output_type": "execute_result"
    }
   ],
   "source": [
    "np.add.__doc__"
   ]
  },
  {
   "cell_type": "markdown",
   "id": "4bdc4f87",
   "metadata": {},
   "source": [
    "<h3 style=\"color:#DC9A3F\"><strong>6. Create a null vector of size 10 but the fifth value which is 1  </strong></h3>"
   ]
  },
  {
   "cell_type": "code",
   "execution_count": 119,
   "id": "bcceacf7",
   "metadata": {},
   "outputs": [
    {
     "data": {
      "text/plain": [
       "array([0, 0, 0, 0, 1, 0, 0, 0, 0, 0])"
      ]
     },
     "execution_count": 119,
     "metadata": {},
     "output_type": "execute_result"
    }
   ],
   "source": [
    "vector=np.zeros(10, dtype=int)\n",
    "vector[4]=1\n",
    "vector"
   ]
  },
  {
   "cell_type": "markdown",
   "id": "fbebedab",
   "metadata": {},
   "source": [
    "<h3 style=\"color:#DC9A3F\"><strong>7. Create a vector with values ranging from 10 to 49</strong></h3>"
   ]
  },
  {
   "cell_type": "code",
   "execution_count": 120,
   "id": "3d117d54",
   "metadata": {},
   "outputs": [
    {
     "data": {
      "text/plain": [
       "array([10, 11, 12, 13, 14, 15, 16, 17, 18, 19, 20, 21, 22, 23, 24, 25, 26,\n",
       "       27, 28, 29, 30, 31, 32, 33, 34, 35, 36, 37, 38, 39, 40, 41, 42, 43,\n",
       "       44, 45, 46, 47, 48, 49])"
      ]
     },
     "execution_count": 120,
     "metadata": {},
     "output_type": "execute_result"
    }
   ],
   "source": [
    "vector=np.array(np.arange(10, 50))\n",
    "vector"
   ]
  },
  {
   "cell_type": "markdown",
   "id": "815321c7",
   "metadata": {},
   "source": [
    "<h3 style=\"color:#DC9A3F\"><strong>8. Reverse a vector (first element becomes last)</strong></h3>"
   ]
  },
  {
   "cell_type": "code",
   "execution_count": 121,
   "id": "22d23470",
   "metadata": {},
   "outputs": [
    {
     "data": {
      "text/plain": [
       "array([49, 48, 47, 46, 45, 44, 43, 42, 41, 40, 39, 38, 37, 36, 35, 34, 33,\n",
       "       32, 31, 30, 29, 28, 27, 26, 25, 24, 23, 22, 21, 20, 19, 18, 17, 16,\n",
       "       15, 14, 13, 12, 11, 10])"
      ]
     },
     "execution_count": 121,
     "metadata": {},
     "output_type": "execute_result"
    }
   ],
   "source": [
    "vector=vector[::-1]\n",
    "vector "
   ]
  },
  {
   "cell_type": "markdown",
   "id": "40b5fbac",
   "metadata": {},
   "source": [
    "<h3 style=\"color:#DC9A3F\"><strong>9. Create a 3x3 matrix with values ranging from 0 to 8</strong></h3>"
   ]
  },
  {
   "cell_type": "code",
   "execution_count": 122,
   "id": "7449e82d",
   "metadata": {},
   "outputs": [
    {
     "data": {
      "text/plain": [
       "array([[0, 1, 2],\n",
       "       [3, 4, 5],\n",
       "       [6, 7, 8]])"
      ]
     },
     "execution_count": 122,
     "metadata": {},
     "output_type": "execute_result"
    }
   ],
   "source": [
    "matrix = np.arange(0, 9).reshape(3, 3)\n",
    "matrix"
   ]
  },
  {
   "cell_type": "markdown",
   "id": "f374c4cf",
   "metadata": {},
   "source": [
    "<h2 style=\"color:#DC9A3F; display:inline;\">\n",
    "  <strong>10. Find indices of non-zero elements from  </strong>\n",
    "</h2>\n",
    "<h3 style=\"color:#F9F7FA; display:inline; margin-left:8px;\">\n",
    "[1,2,0,0,4,0] \n",
    "</h3>\n"
   ]
  },
  {
   "cell_type": "code",
   "execution_count": 123,
   "id": "1a84bed8",
   "metadata": {},
   "outputs": [
    {
     "data": {
      "text/plain": [
       "array([0, 1, 4])"
      ]
     },
     "execution_count": 123,
     "metadata": {},
     "output_type": "execute_result"
    }
   ],
   "source": [
    "vector = np.array([1,2,0,0,4,0])\n",
    "x=np.where(vector != 0)\n",
    "x[0]"
   ]
  },
  {
   "cell_type": "markdown",
   "id": "c0e22f71",
   "metadata": {},
   "source": [
    "<h3 style=\"color:#DC9A3F\"><strong>11. Create a 3x3 identity matrix</strong></h3>"
   ]
  },
  {
   "cell_type": "code",
   "execution_count": 124,
   "id": "29dc1fd3",
   "metadata": {},
   "outputs": [
    {
     "data": {
      "text/plain": [
       "array([[1, 0, 0],\n",
       "       [0, 1, 0],\n",
       "       [0, 0, 1]])"
      ]
     },
     "execution_count": 124,
     "metadata": {},
     "output_type": "execute_result"
    }
   ],
   "source": [
    "matrix = np.eye(3)\n",
    "matrix.astype(int)   "
   ]
  },
  {
   "cell_type": "markdown",
   "id": "fc9172d4",
   "metadata": {},
   "source": [
    "<h3 style=\"color:#DC9A3F\"><strong>12. Create a 3x3x3 array with random values</strong></h3>"
   ]
  },
  {
   "cell_type": "code",
   "execution_count": 125,
   "id": "eadfae67",
   "metadata": {},
   "outputs": [
    {
     "data": {
      "text/plain": [
       "array([[[0.01754051, 0.81718176, 0.71337807],\n",
       "        [0.15377898, 0.37128277, 0.89106019],\n",
       "        [0.38166578, 0.5149362 , 0.44437885]],\n",
       "\n",
       "       [[0.77934554, 0.09028204, 0.48356479],\n",
       "        [0.99467449, 0.48359403, 0.58789246],\n",
       "        [0.67652167, 0.54218701, 0.21268669]],\n",
       "\n",
       "       [[0.1857741 , 0.06182152, 0.46627486],\n",
       "        [0.85226638, 0.62940572, 0.63755753],\n",
       "        [0.75043218, 0.2785238 , 0.38007956]]])"
      ]
     },
     "execution_count": 125,
     "metadata": {},
     "output_type": "execute_result"
    }
   ],
   "source": [
    "array = np.random.random((3, 3, 3))\n",
    "array.shape\n",
    "array\n"
   ]
  },
  {
   "cell_type": "markdown",
   "id": "2bd5d910",
   "metadata": {},
   "source": [
    "<h3 style=\"color:#DC9A3F\"><strong>13. Create a 10x10 array with random values and find the minimum and maximum values</strong></h3>"
   ]
  },
  {
   "cell_type": "code",
   "execution_count": 126,
   "id": "9a74dbfc",
   "metadata": {},
   "outputs": [
    {
     "name": "stdout",
     "output_type": "stream",
     "text": [
      "the max value is 0.9955760522615109 and the min value is 0.002463411166507168\n"
     ]
    }
   ],
   "source": [
    "array=np.random.random((10,10))\n",
    "x=np.max(array).astype(float)\n",
    "y=np.min(array).astype(float)\n",
    "print(f'the max value is {x} and the min value is {y}')"
   ]
  },
  {
   "cell_type": "markdown",
   "id": "0cdd6fba",
   "metadata": {},
   "source": [
    "<h3 style=\"color:#DC9A3F\"><strong>14. Create a random vector of size 30 and find the mean value</strong></h3>"
   ]
  },
  {
   "cell_type": "code",
   "execution_count": 127,
   "id": "6691530b",
   "metadata": {},
   "outputs": [
    {
     "data": {
      "text/plain": [
       "np.float64(0.4980006915134643)"
      ]
     },
     "execution_count": 127,
     "metadata": {},
     "output_type": "execute_result"
    }
   ],
   "source": [
    "vector=np.random.random(30)\n",
    "np.mean(vector)"
   ]
  },
  {
   "cell_type": "markdown",
   "id": "cbaad31c",
   "metadata": {},
   "source": [
    "<h3 style=\"color:#DC9A3F\"><strong>15. Create a 2d array with 1 on the border and 0 inside</strong></h3>"
   ]
  },
  {
   "cell_type": "code",
   "execution_count": 128,
   "id": "ad8308e3",
   "metadata": {},
   "outputs": [
    {
     "data": {
      "text/plain": [
       "array([[1, 1, 1, 1, 1],\n",
       "       [1, 0, 0, 0, 1],\n",
       "       [1, 0, 0, 0, 1],\n",
       "       [1, 0, 0, 0, 1],\n",
       "       [1, 1, 1, 1, 1]])"
      ]
     },
     "execution_count": 128,
     "metadata": {},
     "output_type": "execute_result"
    }
   ],
   "source": [
    "vector=np.ones((5,5)).astype(int)\n",
    "vector[1:-1,1:-1]=0\n",
    "vector"
   ]
  },
  {
   "cell_type": "markdown",
   "id": "c11820ea",
   "metadata": {},
   "source": [
    "<h3 style=\"color:#DC9A3F\"><strong>16. How to add a border (filled with 0's) around an existing array? </strong></h3>"
   ]
  },
  {
   "cell_type": "code",
   "execution_count": 129,
   "id": "9d5c78c4",
   "metadata": {},
   "outputs": [
    {
     "data": {
      "text/plain": [
       "array([[0., 0., 0., 0., 0., 0., 0., 0., 0., 0., 0., 0.],\n",
       "       [0., 1., 2., 9., 2., 1., 2., 3., 4., 3., 4., 0.],\n",
       "       [0., 0., 0., 0., 0., 0., 0., 0., 0., 0., 0., 0.]])"
      ]
     },
     "execution_count": 129,
     "metadata": {},
     "output_type": "execute_result"
    }
   ],
   "source": [
    "vector = np.array([1,2,9,2,1,2,3,4,3,4])\n",
    "zeros = np.zeros((3,len(vector)+2))\n",
    "zeros[1,1:-1] = vector\n",
    "zeros"
   ]
  },
  {
   "cell_type": "markdown",
   "id": "ef909b72",
   "metadata": {},
   "source": [
    "<h3 style=\"color:#DC9A3F\"><strong>17. What is the result of the following expression? </strong></h3>\n",
    "<h4 style=\"color:#D20103; display:inline;\"><strong>(0 * np.nan) </strong></h4><h4 style=\"color:#7DDA58; display:inline; margin-left:8px;\">Answer is : NaN</h4>\n",
    "<br>\n",
    "<h4 style=\"color:#D20103; display:inline;\"><strong>(np.nan == np.nan) </strong></h4><h4 style=\"color:#7DDA58; display:inline; margin-left:8px;\">Answer is : False</h4>\n",
    "<br>\n",
    "<h4 style=\"color:#D20103; display:inline;\"><strong>(np.inf > np.nan)</strong></h4><h4 style=\"color:#7DDA58; display:inline; margin-left:8px;\">Answer is : False</h4>\n",
    "<br>\n",
    "<h4 style=\"color:#D20103; display:inline;\"><strong>(np.nan - np.nan)</strong></h4><h4 style=\"color:#7DDA58; display:inline; margin-left:8px;\">Answer is : NaN</h4>\n",
    "<br>\n",
    "<h4 style=\"color:#D20103; display:inline;\"><strong>(np.nan in set([np.nan]))</strong></h4><h4 style=\"color:#7DDA58; display:inline; margin-left:8px;\">Answer is : True</h4>\n",
    "<br>\n",
    "<h4 style=\"color:#D20103; display:inline;\"><strong>(0.3 == 3 * 0.1)</strong></h4><h4 style=\"color:#7DDA58; display:inline; margin-left:8px;\">Answer is : False</h4>\n"
   ]
  },
  {
   "cell_type": "markdown",
   "id": "a24540c2",
   "metadata": {},
   "source": [
    "<h3 style=\"color:#DC9A3F\"><strong>18. Create a 5x5 matrix with values 1,2,3,4 just below the diagonal </strong></h3>"
   ]
  },
  {
   "cell_type": "code",
   "execution_count": 131,
   "id": "faed6e2b",
   "metadata": {},
   "outputs": [
    {
     "data": {
      "text/plain": [
       "array([[0, 0, 0, 0, 0],\n",
       "       [1, 0, 0, 0, 0],\n",
       "       [0, 2, 0, 0, 0],\n",
       "       [0, 0, 3, 0, 0],\n",
       "       [0, 0, 0, 4, 0]])"
      ]
     },
     "execution_count": 131,
     "metadata": {},
     "output_type": "execute_result"
    }
   ],
   "source": [
    "Z = np.diag(np.arange(1,5),k=-1)\n",
    "Z"
   ]
  },
  {
   "cell_type": "markdown",
   "id": "9ca9153c",
   "metadata": {},
   "source": [
    "<h3 style=\"color:#DC9A3F\"><strong> 19. Create a 8x8 matrix and fill it with a checkerboard pattern </strong></h3>"
   ]
  },
  {
   "cell_type": "code",
   "execution_count": 132,
   "id": "ed150400",
   "metadata": {},
   "outputs": [
    {
     "data": {
      "text/plain": [
       "array([[0, 1, 0, 1, 0, 1, 0, 1],\n",
       "       [1, 0, 1, 0, 1, 0, 1, 0],\n",
       "       [0, 1, 0, 1, 0, 1, 0, 1],\n",
       "       [1, 0, 1, 0, 1, 0, 1, 0],\n",
       "       [0, 1, 0, 1, 0, 1, 0, 1],\n",
       "       [1, 0, 1, 0, 1, 0, 1, 0],\n",
       "       [0, 1, 0, 1, 0, 1, 0, 1],\n",
       "       [1, 0, 1, 0, 1, 0, 1, 0]], dtype=int32)"
      ]
     },
     "execution_count": 132,
     "metadata": {},
     "output_type": "execute_result"
    }
   ],
   "source": [
    "matrix = np.random.randint(0,1,(8,8))\n",
    "matrix[1::2,::2] = 1\n",
    "matrix[::2,1::2] = 1\n",
    "matrix"
   ]
  },
  {
   "cell_type": "markdown",
   "id": "79b84b16",
   "metadata": {},
   "source": [
    "<h3 style=\"color:#DC9A3F\"><strong> 21. Create a checkerboard 8x8 matrix using the tile function</strong></h3>"
   ]
  },
  {
   "cell_type": "code",
   "execution_count": 133,
   "id": "01bfd652",
   "metadata": {},
   "outputs": [
    {
     "data": {
      "text/plain": [
       "array([[0, 1, 0, 1, 0, 1, 0, 1],\n",
       "       [1, 0, 1, 0, 1, 0, 1, 0],\n",
       "       [0, 1, 0, 1, 0, 1, 0, 1],\n",
       "       [1, 0, 1, 0, 1, 0, 1, 0],\n",
       "       [0, 1, 0, 1, 0, 1, 0, 1],\n",
       "       [1, 0, 1, 0, 1, 0, 1, 0],\n",
       "       [0, 1, 0, 1, 0, 1, 0, 1],\n",
       "       [1, 0, 1, 0, 1, 0, 1, 0]])"
      ]
     },
     "execution_count": 133,
     "metadata": {},
     "output_type": "execute_result"
    }
   ],
   "source": [
    "np.tile([[0, 1], [1, 0]], (4, 4))"
   ]
  },
  {
   "cell_type": "markdown",
   "id": "d5bcfc08",
   "metadata": {},
   "source": [
    "<h3 style=\"color:#DC9A3F\"><strong> 22. Normalize a 5x5 random matrix knowing normalization = (x-min/max-min )</strong></h3>"
   ]
  },
  {
   "cell_type": "code",
   "execution_count": 134,
   "id": "cea6c993",
   "metadata": {},
   "outputs": [
    {
     "data": {
      "text/plain": [
       "array([[ 0.24497097, -0.69420283,  1.58691344, -1.11610067,  0.1035904 ],\n",
       "       [ 0.52546224, -1.37663361,  0.16239112, -0.81272554, -0.30067969],\n",
       "       [ 0.49466934,  1.17159078,  1.63069194, -0.44323156,  1.50363655],\n",
       "       [-0.1391999 , -1.37053579,  0.99444101, -1.27116936, -0.72572811],\n",
       "       [-1.48222964, -0.97296293,  0.16540126,  1.58525705,  0.53638355]])"
      ]
     },
     "execution_count": 134,
     "metadata": {},
     "output_type": "execute_result"
    }
   ],
   "source": [
    "matrix = np.random.random((5, 5))\n",
    "Nmatrix = (matrix - np.mean(matrix)) / np.std(matrix)\n",
    "Nmatrix\n"
   ]
  },
  {
   "cell_type": "markdown",
   "id": "576e932a",
   "metadata": {},
   "source": [
    "<h3 style=\"color:#DC9A3F\"><strong> 24. Multiply a 5x3 matrix by a 3x2 matrix (real matrix product) </strong></h3>"
   ]
  },
  {
   "cell_type": "code",
   "execution_count": 135,
   "id": "6a42619f",
   "metadata": {},
   "outputs": [
    {
     "data": {
      "text/plain": [
       "array([[3., 3.],\n",
       "       [3., 3.],\n",
       "       [3., 3.],\n",
       "       [3., 3.],\n",
       "       [3., 3.]])"
      ]
     },
     "execution_count": 135,
     "metadata": {},
     "output_type": "execute_result"
    }
   ],
   "source": [
    "a = np.ones((5,3))\n",
    "b = np.ones((3,2))\n",
    "a@b"
   ]
  },
  {
   "cell_type": "markdown",
   "id": "994c25df",
   "metadata": {},
   "source": [
    "<h3 style=\"color:#DC9A3F\"><strong> 25. Given a 1D array, negate all elements which are between 3 and 8, in place. </strong></h3>"
   ]
  },
  {
   "cell_type": "code",
   "execution_count": 136,
   "id": "e4b39c03",
   "metadata": {},
   "outputs": [
    {
     "data": {
      "text/plain": [
       "array([ 0,  1,  2,  3, -4, -5, -6, -7,  8,  9, 10])"
      ]
     },
     "execution_count": 136,
     "metadata": {},
     "output_type": "execute_result"
    }
   ],
   "source": [
    "array = np.arange(11)\n",
    "array[(3 < array) & (array < 8)] *= -1\n",
    "array"
   ]
  },
  {
   "cell_type": "markdown",
   "id": "c34e94bf",
   "metadata": {},
   "source": [
    "<h3 style=\"color:#DC9A3F\"><strong> 28. What are the result of the following expressions? </strong></h3>\n",
    "\n",
    "<h4 style=\"color:#D20103; display:inline;\"><strong>a) np.array(0) / np.array(0) </strong></h4><h4 style=\"color:#7DDA58; display:inline; margin-left:8px;\">Answer is : NaN</h4>\n",
    "<br>\n",
    "<h4 style=\"color:#D20103; display:inline;\"><strong>b) np.array(0) // np.array(0) </strong></h4><h4 style=\"color:#7DDA58; display:inline; margin-left:8px;\">Answer is : 0</h4>\n",
    "<br>\n",
    "<h4 style=\"color:#D20103; display:inline;\"><strong>c) np.array([np.nan]).astype(int).astype(float) </strong></h4><h4 style=\"color:#7DDA58; display:inline; margin-left:8px;\">Answer is : [0.0]</h4>\n"
   ]
  },
  {
   "cell_type": "markdown",
   "id": "aa23f812",
   "metadata": {},
   "source": [
    "<h3 style=\"color:#DC9A3F\"><strong> 30. How to find common values between two arrays? </strong></h3>"
   ]
  },
  {
   "cell_type": "code",
   "execution_count": 137,
   "id": "e0270b5b",
   "metadata": {},
   "outputs": [
    {
     "data": {
      "text/plain": [
       "array([ 5,  6,  7,  8,  9, 10, 11, 12, 13, 14])"
      ]
     },
     "execution_count": 137,
     "metadata": {},
     "output_type": "execute_result"
    }
   ],
   "source": [
    "a = np.arange(0,20)\n",
    "b = np.arange(5,15)\n",
    "np.intersect1d(a,b)"
   ]
  },
  {
   "cell_type": "markdown",
   "id": "b6dde4b1",
   "metadata": {},
   "source": [
    "<h3 style=\"color:#DC9A3F\"><strong> 32. Is the following expressions true? </strong></h3>\n",
    "<h4 style=\"color:#D20103; display:inline;\"><strong>np.sqrt(-1) == np.emath.sqrt(-1)</strong></h4><h4 style=\"color:#7DDA58; display:inline; margin-left:8px;\">Answer is : False</h4>\n",
    "\n",
    "\n"
   ]
  },
  {
   "cell_type": "markdown",
   "id": "b088c0f5",
   "metadata": {},
   "source": [
    "<h3 style=\"color:#DC9A3F\"><strong> 33. How to get the dates of yesterday, today and tomorrow? </strong></h3>"
   ]
  },
  {
   "cell_type": "code",
   "execution_count": 145,
   "id": "9c4d2152",
   "metadata": {},
   "outputs": [
    {
     "data": {
      "text/plain": [
       "array(['2025-08-13', '2025-08-14', '2025-08-15'], dtype='datetime64[D]')"
      ]
     },
     "execution_count": 145,
     "metadata": {},
     "output_type": "execute_result"
    }
   ],
   "source": [
    "today = np.datetime64('today')\n",
    "yesterday = today - np.timedelta64(1, 'D')\n",
    "tomorrow  = today + np.timedelta64(1, 'D')\n",
    "c = np.concatenate([[yesterday],[today],[tomorrow]])\n",
    "c"
   ]
  },
  {
   "cell_type": "markdown",
   "id": "c84db5a4",
   "metadata": {},
   "source": [
    "<h3 style=\"color:#DC9A3F\"><strong> 34. How to get all the dates corresponding to the month of July 2016?</strong></h3>"
   ]
  },
  {
   "cell_type": "code",
   "execution_count": 146,
   "id": "d6c34dec",
   "metadata": {},
   "outputs": [
    {
     "data": {
      "text/plain": [
       "array(['2016-07-01', '2016-07-02', '2016-07-03', '2016-07-04',\n",
       "       '2016-07-05', '2016-07-06', '2016-07-07', '2016-07-08',\n",
       "       '2016-07-09', '2016-07-10', '2016-07-11', '2016-07-12',\n",
       "       '2016-07-13', '2016-07-14', '2016-07-15', '2016-07-16',\n",
       "       '2016-07-17', '2016-07-18', '2016-07-19', '2016-07-20',\n",
       "       '2016-07-21', '2016-07-22', '2016-07-23', '2016-07-24',\n",
       "       '2016-07-25', '2016-07-26', '2016-07-27', '2016-07-28',\n",
       "       '2016-07-29', '2016-07-30', '2016-07-31'], dtype='datetime64[D]')"
      ]
     },
     "execution_count": 146,
     "metadata": {},
     "output_type": "execute_result"
    }
   ],
   "source": [
    "dates = np.arange('2016-07', '2016-08', dtype='datetime64[D]')\n",
    "dates"
   ]
  },
  {
   "cell_type": "markdown",
   "id": "804bc271",
   "metadata": {},
   "source": [
    "<h3 style=\"color:#DC9A3F\"><strong> 35. How to compute ((A+B)*(-A/2)) in place (without copy)?</strong></h3>"
   ]
  },
  {
   "cell_type": "code",
   "execution_count": 147,
   "id": "49267f60",
   "metadata": {},
   "outputs": [
    {
     "data": {
      "text/plain": [
       "array([ -1.,  -3.,  -6., -10.])"
      ]
     },
     "execution_count": 147,
     "metadata": {},
     "output_type": "execute_result"
    }
   ],
   "source": [
    "A = np.array([1,2,3,4], dtype='float64')\n",
    "B = np.array([1,1,1,1], dtype='float64')\n",
    "np.multiply(np.add(A,B,out=B), np.divide(np.negative(A,out=A),2,out=A),out=A)"
   ]
  },
  {
   "cell_type": "markdown",
   "id": "e45bab2b",
   "metadata": {},
   "source": [
    "<h3 style=\"color:#DC9A3F\"><strong> 36. Extract the integer part of a random array of positive numbers using 4 different methods</strong></h3>"
   ]
  },
  {
   "cell_type": "code",
   "execution_count": 150,
   "id": "368130b3",
   "metadata": {},
   "outputs": [
    {
     "data": {
      "text/plain": [
       "array([[7., 8., 5., 5., 1.],\n",
       "       [7., 8., 5., 5., 1.],\n",
       "       [7., 8., 5., 5., 1.],\n",
       "       [7., 8., 5., 5., 1.]])"
      ]
     },
     "execution_count": 150,
     "metadata": {},
     "output_type": "execute_result"
    }
   ],
   "source": [
    "arr = np.random.random(5) * 10\n",
    "arr1 = np.floor(arr)\n",
    "arr2 = np.trunc(arr)\n",
    "arr3 = np.fix(arr)\n",
    "arr4 = arr.astype(int)\n",
    "c = np.concatenate([[arr1],[arr2],[arr3],[arr4]])\n",
    "c"
   ]
  },
  {
   "cell_type": "markdown",
   "id": "839998fb",
   "metadata": {},
   "source": [
    "<h3 style=\"color:#DC9A3F\"><strong> 37. Create a 5x5 matrix with row values ranging from 0 to 4</strong></h3>"
   ]
  },
  {
   "cell_type": "code",
   "execution_count": 152,
   "id": "1d974e8f",
   "metadata": {},
   "outputs": [
    {
     "data": {
      "text/plain": [
       "array([[0, 1, 2, 3, 4],\n",
       "       [0, 1, 2, 3, 4],\n",
       "       [0, 1, 2, 3, 4],\n",
       "       [0, 1, 2, 3, 4],\n",
       "       [0, 1, 2, 3, 4]])"
      ]
     },
     "execution_count": 152,
     "metadata": {},
     "output_type": "execute_result"
    }
   ],
   "source": [
    "matrix = np.tile(np.arange(5),5).reshape((5,5))\n",
    "matrix"
   ]
  },
  {
   "cell_type": "markdown",
   "id": "9720e2d5",
   "metadata": {},
   "source": [
    "<h3 style=\"color:#DC9A3F\"><strong>38. Consider a generator function that generates 10 integers and use it to build an array</strong></h3>"
   ]
  },
  {
   "cell_type": "code",
   "execution_count": 153,
   "id": "e5dd8fc9",
   "metadata": {},
   "outputs": [
    {
     "data": {
      "text/plain": [
       "array([87, 23, 35, 98, 43, 43, 80, 72, 49, 51], dtype=int32)"
      ]
     },
     "execution_count": 153,
     "metadata": {},
     "output_type": "execute_result"
    }
   ],
   "source": [
    "np.random.randint(0,100,10)"
   ]
  },
  {
   "cell_type": "markdown",
   "id": "c6f2c912",
   "metadata": {},
   "source": [
    "<h3 style=\"color:#DC9A3F\"><strong>39. Create a vector of size 10 with values ranging from 0 to 1, both excluded</strong></h3>"
   ]
  },
  {
   "cell_type": "code",
   "execution_count": 154,
   "id": "6aaa27d3",
   "metadata": {},
   "outputs": [
    {
     "data": {
      "text/plain": [
       "array([0.09090909, 0.18181818, 0.27272727, 0.36363636, 0.45454545,\n",
       "       0.54545455, 0.63636364, 0.72727273, 0.81818182, 0.90909091])"
      ]
     },
     "execution_count": 154,
     "metadata": {},
     "output_type": "execute_result"
    }
   ],
   "source": [
    "np.linspace(0,1,11,endpoint=False)[1:]"
   ]
  },
  {
   "cell_type": "markdown",
   "id": "a36d6ee4",
   "metadata": {},
   "source": [
    "<h3 style=\"color:#DC9A3F\"><strong>40. Create a random vector of size 10 and sort it</strong></h3>"
   ]
  },
  {
   "cell_type": "code",
   "execution_count": 155,
   "id": "e589d216",
   "metadata": {},
   "outputs": [
    {
     "data": {
      "text/plain": [
       "array([0.04383626, 0.04638803, 0.2328896 , 0.34558545, 0.5596372 ,\n",
       "       0.64391421, 0.69584484, 0.75747171, 0.84764776, 0.87725624])"
      ]
     },
     "execution_count": 155,
     "metadata": {},
     "output_type": "execute_result"
    }
   ],
   "source": [
    "vector=np.random.random(10)\n",
    "np.sort(vector)"
   ]
  },
  {
   "cell_type": "markdown",
   "id": "0fb4ad68",
   "metadata": {},
   "source": [
    "<h3 style=\"color:#DC9A3F\"><strong>41. How to sum a small array faster than np.sum? </strong></h3>"
   ]
  },
  {
   "cell_type": "code",
   "execution_count": 157,
   "id": "a1ba05a0",
   "metadata": {},
   "outputs": [
    {
     "data": {
      "text/plain": [
       "10"
      ]
     },
     "execution_count": 157,
     "metadata": {},
     "output_type": "execute_result"
    }
   ],
   "source": [
    "array=np.array([1,2,3,4])\n",
    "int(np.add.reduce(array))"
   ]
  },
  {
   "cell_type": "markdown",
   "id": "024ac365",
   "metadata": {},
   "source": [
    "<h3 style=\"color:#DC9A3F\"><strong>42. Consider two random array A and B, check if they are equal</strong></h3>"
   ]
  },
  {
   "cell_type": "code",
   "execution_count": 177,
   "id": "7db3846d",
   "metadata": {},
   "outputs": [
    {
     "name": "stdout",
     "output_type": "stream",
     "text": [
      "False\n"
     ]
    }
   ],
   "source": [
    "A = np.random.randint(0,2,1)\n",
    "B = np.random.randint(0,2,1)\n",
    "ok = np.allclose(A,B)\n",
    "print(ok)"
   ]
  },
  {
   "cell_type": "markdown",
   "id": "2f60f1ec",
   "metadata": {},
   "source": [
    "<h3 style=\"color:#DC9A3F\"><strong> 45. Create random vector of size 10 and replace the maximum value by 0</strong></h3>"
   ]
  },
  {
   "cell_type": "code",
   "execution_count": 178,
   "id": "d9f48f1c",
   "metadata": {},
   "outputs": [
    {
     "data": {
      "text/plain": [
       "array([0.53281359, 0.57611157, 0.49945857, 0.65550022, 0.        ,\n",
       "       0.07456703, 0.06218242, 0.48401219, 0.17261384, 0.87925122])"
      ]
     },
     "execution_count": 178,
     "metadata": {},
     "output_type": "execute_result"
    }
   ],
   "source": [
    "vector = np.random.random(10)\n",
    "vector[vector.argmax()] = 0\n",
    "vector"
   ]
  },
  {
   "cell_type": "markdown",
   "id": "9b317a98",
   "metadata": {},
   "source": [
    "<h3 style=\"color:#DC9A3F\"><strong> 49. How to print all the values of an array?</strong></h3>"
   ]
  },
  {
   "cell_type": "code",
   "execution_count": 181,
   "id": "309cdeb9",
   "metadata": {},
   "outputs": [
    {
     "data": {
      "text/plain": [
       "array([  0,   1,   2,   3,   4,   5,   6,   7,   8,   9,  10,  11,  12,\n",
       "        13,  14,  15,  16,  17,  18,  19,  20,  21,  22,  23,  24,  25,\n",
       "        26,  27,  28,  29,  30,  31,  32,  33,  34,  35,  36,  37,  38,\n",
       "        39,  40,  41,  42,  43,  44,  45,  46,  47,  48,  49,  50,  51,\n",
       "        52,  53,  54,  55,  56,  57,  58,  59,  60,  61,  62,  63,  64,\n",
       "        65,  66,  67,  68,  69,  70,  71,  72,  73,  74,  75,  76,  77,\n",
       "        78,  79,  80,  81,  82,  83,  84,  85,  86,  87,  88,  89,  90,\n",
       "        91,  92,  93,  94,  95,  96,  97,  98,  99, 100, 101, 102, 103,\n",
       "       104, 105, 106, 107, 108, 109, 110, 111, 112, 113, 114, 115, 116,\n",
       "       117, 118, 119, 120, 121, 122, 123, 124, 125, 126, 127, 128, 129,\n",
       "       130, 131, 132, 133, 134, 135, 136, 137, 138, 139, 140, 141, 142,\n",
       "       143, 144, 145, 146, 147, 148, 149, 150, 151, 152, 153, 154, 155,\n",
       "       156, 157, 158, 159, 160, 161, 162, 163, 164, 165, 166, 167, 168,\n",
       "       169, 170, 171, 172, 173, 174, 175, 176, 177, 178, 179, 180, 181,\n",
       "       182, 183, 184, 185, 186, 187, 188, 189, 190, 191, 192, 193, 194,\n",
       "       195, 196, 197, 198, 199])"
      ]
     },
     "execution_count": 181,
     "metadata": {},
     "output_type": "execute_result"
    }
   ],
   "source": [
    "array = np.arange(200)\n",
    "np.set_printoptions(threshold=np.inf)\n",
    "array\n"
   ]
  },
  {
   "cell_type": "markdown",
   "id": "b580f9d0",
   "metadata": {},
   "source": [
    "<h3 style=\"color:#DC9A3F\"><strong> 50. How to find the closest value (to a given scalar) in a vector?</strong></h3>"
   ]
  },
  {
   "cell_type": "code",
   "execution_count": null,
   "id": "ebfb6714",
   "metadata": {},
   "outputs": [
    {
     "data": {
      "text/plain": [
       "np.int32(6)"
      ]
     },
     "execution_count": 193,
     "metadata": {},
     "output_type": "execute_result"
    }
   ],
   "source": [
    "array = np.random.randint(0,100,100)\n",
    "isearch = 5.75\n",
    "array[np.argmin(np.abs(isearch - array))]\n"
   ]
  }
 ],
 "metadata": {
  "kernelspec": {
   "display_name": "base",
   "language": "python",
   "name": "python3"
  },
  "language_info": {
   "codemirror_mode": {
    "name": "ipython",
    "version": 3
   },
   "file_extension": ".py",
   "mimetype": "text/x-python",
   "name": "python",
   "nbconvert_exporter": "python",
   "pygments_lexer": "ipython3",
   "version": "3.13.5"
  }
 },
 "nbformat": 4,
 "nbformat_minor": 5
}
