{
 "cells": [
  {
   "cell_type": "markdown",
   "id": "c0b56ea3",
   "metadata": {},
   "source": [
    "<div style=\"text-align: center;\">\n",
    "    <h1 style=\"\n",
    "        background: linear-gradient(135deg, #242a4eff, #12454bff); \n",
    "        color: white; \n",
    "        padding: 15px 30px; \n",
    "        border-radius: 500px; \n",
    "        font-family: 'Segoe UI', Arial, sans-serif; \n",
    "        box-shadow: 0 4px 15px rgba(0,0,0,0.3);\n",
    "        display: inline-block;\n",
    "    \">\n",
    "        university System\n",
    "    </h1>\n",
    "</div>\n"
   ]
  },
  {
   "cell_type": "markdown",
   "id": "c148d75e",
   "metadata": {},
   "source": [
    "<h3 style=\"color:red\">1.Base Class</h3>"
   ]
  },
  {
   "cell_type": "code",
   "execution_count": 150,
   "id": "9e815c89",
   "metadata": {},
   "outputs": [],
   "source": [
    "class person :\n",
    "    unversityName=\"Mit\"\n",
    "    def __init__(self,name,age,id):\n",
    "        self.name=name\n",
    "        self.age=age\n",
    "        self.id=id\n",
    "    def introduce(self):\n",
    "        return f\"Hello, my name is {self.name}, I am {self.age} years old and my ID is {self.id}.\"\n",
    "    \n",
    "    @classmethod\n",
    "    def Getunversity(cls):\n",
    "        return f\" Welcome to {cls.unversityName}\""
   ]
  },
  {
   "cell_type": "markdown",
   "id": "ddb36567",
   "metadata": {},
   "source": [
    "<h3 style=\"color:red\">2.Student Class (inherits from Person)</h3>"
   ]
  },
  {
   "cell_type": "code",
   "execution_count": 151,
   "id": "d3ad625c",
   "metadata": {},
   "outputs": [],
   "source": [
    "class student(person):\n",
    "    def __init__(self, name, age, id):\n",
    "        super().__init__(name, age, id)\n",
    "        self.course=[]\n",
    "    def introduce(self):\n",
    "        return f\"Hello, I'm {self.name} and I'm a student at {self.universityName}.\"\n",
    "    def enrollCourse(self,course):\n",
    "        self.course.append(course)\n",
    "        return f\"{self.name} has enrolled in {course}.\"\n",
    "        \n",
    "    def introduce(self):\n",
    "        return f\"{self.name} has enrolled in {self.unversityName}.\"\n",
    "    def __str__(self):\n",
    "        return f\"{self.name} is a student at {self.unversityName} age is {self.age} id number is {self.id}.\""
   ]
  },
  {
   "cell_type": "markdown",
   "id": "420002e2",
   "metadata": {},
   "source": [
    "<h3 style=\"color:red\">3.Employee Class (for multiple inheritance)</h3>"
   ]
  },
  {
   "cell_type": "code",
   "execution_count": 152,
   "id": "3975b03b",
   "metadata": {},
   "outputs": [],
   "source": [
    "class employee:\n",
    "    def __init__(self,salary):\n",
    "        self.__salary=salary\n",
    "        \n",
    "    def getSalary(self):\n",
    "        return f\"My salary is {self.__salary}\""
   ]
  },
  {
   "cell_type": "markdown",
   "id": "e9ac67d8",
   "metadata": {},
   "source": [
    "<h3 style=\"color:red\">4.Professor class (inherits from person and employee)</h3>"
   ]
  },
  {
   "cell_type": "code",
   "execution_count": 153,
   "id": "afa66acd",
   "metadata": {},
   "outputs": [],
   "source": [
    "class professor(person, employee):\n",
    "    def __init__(self, name, age, id, salary):\n",
    "        person.__init__(self, name, age, id)\n",
    "        employee.__init__(self, salary)\n",
    "        self.course = []\n",
    "    def assignCourse(self, course):\n",
    "        self.course.append(course)\n",
    "        return f\"{self.name} has been assigned to teach {course}.\"\n",
    "    def introduce(self):\n",
    "        return f\"{self.name} is a professor at {self.unversityName}, I teach {self.course}.\"\n",
    "    def getSalary(self):\n",
    "        return f\"My salary is {self._employee__salary}\"\n",
    "    def __str__(self):\n",
    "        return f\"{self.name} is a professor at {self.unversityName}, I teach {self.course}.\""
   ]
  },
  {
   "cell_type": "markdown",
   "id": "9606897c",
   "metadata": {},
   "source": [
    "<h3 style=\"color:red\">4.Course Class</h3>"
   ]
  },
  {
   "cell_type": "code",
   "execution_count": 154,
   "id": "16170c74",
   "metadata": {},
   "outputs": [],
   "source": [
    "class course:\n",
    "    def __init__(self,coursename,coursecode):\n",
    "        self.coursename=coursename\n",
    "        self.coursecode=coursecode\n",
    "        self.student=[]\n",
    "    def enrollStudent(self,student):\n",
    "        self.student.append(student)\n",
    "        return f\"{student.name} has been enrolled in {self.coursename}.\"\n",
    "    def __repr__(self):\n",
    "        return f\"Course({self.coursename}, {self.coursecode})\""
   ]
  },
  {
   "cell_type": "markdown",
   "id": "94563e4e",
   "metadata": {},
   "source": [
    "<h3 style=\"color:red\">5.University class (manages everything)</h3>"
   ]
  },
  {
   "cell_type": "code",
   "execution_count": 155,
   "id": "4e543750",
   "metadata": {},
   "outputs": [],
   "source": [
    "class university:\n",
    "    def __init__(self):\n",
    "        self.students=[]\n",
    "        self.courses=[]\n",
    "        self.professors=[]\n",
    "    def addStudent(self,student):\n",
    "        self.students.append(student)\n",
    "        return f\"{student.name} has been added to the university.\"\n",
    "    def addCourse(self,course):\n",
    "        self.courses.append(course)\n",
    "        return f\"{course.coursename} has been added to the university.\"\n",
    "    def addProfessor(self,professor):\n",
    "        self.professors.append(professor)\n",
    "        return f\"{professor.name} has been added to the university.\"\n",
    "    def showAllStudents(self):\n",
    "        return [str(student) for student in self.students]\n",
    "    def showAllCourses(self):\n",
    "        return [str(course) for course in self.courses]\n",
    "    def showAllProfessors(self):\n",
    "        return [str(professor) for professor in self.professors]"
   ]
  },
  {
   "cell_type": "markdown",
   "id": "8f83a9ff",
   "metadata": {},
   "source": [
    "<h3 style=\"color:red\">6.TESTING</h3>"
   ]
  },
  {
   "cell_type": "code",
   "execution_count": null,
   "id": "36d21ba9",
   "metadata": {},
   "outputs": [],
   "source": [
    "assuit = university()\n",
    "\n",
    "alg=course(\"Algorithms\", \"CS101\")\n",
    "datastruct=course(\"Data Structures\", \"CS102\")   \n",
    "assuit.addCourse(alg)\n",
    "assuit.addCourse(datastruct)\n",
    "\n",
    "rammah=student(\"Rammah\",20, \"S123\")\n",
    "khaled=student(\"Khaled\", 22, \"S124\")\n",
    "assuit.addStudent(rammah)\n",
    "assuit.addStudent(khaled)\n",
    "\n",
    "prof1 = professor(\"Dr. Smith\", 45, \"P101\", 10000)\n",
    "assuit.addProfessor(prof1)\n",
    "prof2 = professor(\"Dr. Johnson\", 50, \"P102\", 12000)\n",
    "assuit.addProfessor(prof2)"
   ]
  },
  {
   "cell_type": "markdown",
   "id": "139b9609",
   "metadata": {},
   "source": [
    "<h3 style=\"color:orange;\">7.PRINTING</h3>"
   ]
  },
  {
   "cell_type": "code",
   "execution_count": null,
   "id": "0333d75e",
   "metadata": {},
   "outputs": [],
   "source": [
    "print(assuit.showAllStudents())\n",
    "print(assuit.showAllCourses())\n",
    "print(assuit.showAllProfessors())\n",
    "\n",
    "print(prof1.assignCourse(alg))\n",
    "print(prof1.introduce())\n",
    "print(prof1.getSalary())\n",
    "\n",
    "Person = person(\"Rammah\", 20, \"S123\")\n",
    "print(Person.introduce())\n",
    "print(rammah.introduce())\n",
    "print(prof1.introduce())\n",
    "\n",
    "prof1.getSalary()\n",
    "\n",
    "print(Person.Getunversity())"
   ]
  }
 ],
 "metadata": {
  "kernelspec": {
   "display_name": "base",
   "language": "python",
   "name": "python3"
  },
  "language_info": {
   "codemirror_mode": {
    "name": "ipython",
    "version": 3
   },
   "file_extension": ".py",
   "mimetype": "text/x-python",
   "name": "python",
   "nbconvert_exporter": "python",
   "pygments_lexer": "ipython3",
   "version": "3.13.5"
  }
 },
 "nbformat": 4,
 "nbformat_minor": 5
}
