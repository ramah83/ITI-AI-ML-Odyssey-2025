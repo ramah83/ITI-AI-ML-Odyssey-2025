{
 "cells": [
  {
   "cell_type": "markdown",
   "id": "a65d5861",
   "metadata": {},
   "source": [
    "<div style=\"text-align: center;\">\n",
    "    <h1 style=\"\n",
    "        background: linear-gradient(135deg, #cc5151ff, #614444ff); \n",
    "        color: white; \n",
    "        padding: 15px 30px; \n",
    "        border-radius: 500px; \n",
    "        font-family: 'Segoe UI', Arial, sans-serif; \n",
    "        box-shadow: 0 4px 15px rgba(0,0,0,0.3);\n",
    "        display: inline-block;\n",
    "    \">\n",
    "        Prime Numbers Dictionary Project\n",
    "    </h1>\n",
    "</div>\n"
   ]
  },
  {
   "cell_type": "markdown",
   "id": "149297b8",
   "metadata": {},
   "source": [
    "<h3 style=\"color:red\">1. Check Number is prime</h3>"
   ]
  },
  {
   "cell_type": "code",
   "execution_count": 6,
   "id": "ff38c881",
   "metadata": {},
   "outputs": [],
   "source": [
    "def checkPrime(n):\n",
    "    if n==0 or n==1 :\n",
    "        return False\n",
    "    for i in range(2, int(n**0.5) + 1):\n",
    "        if n % i == 0:\n",
    "            return False    \n",
    "    return True\n",
    "## def checkprime(n):\n",
    "    ##  return n > 1 and all(n % i != 0 for i in range(2, int(n**0.5) + 1))"
   ]
  },
  {
   "cell_type": "markdown",
   "id": "979770fd",
   "metadata": {},
   "source": [
    "<h3 style=\"color:red\">2. generate All primes Number</h3>"
   ]
  },
  {
   "cell_type": "code",
   "execution_count": 9,
   "id": "42dbaf7c",
   "metadata": {},
   "outputs": [],
   "source": [
    "def GeneratePrimes(n):\n",
    "    primes = {}\n",
    "    idx=1\n",
    "    for num in range(2, n + 1):\n",
    "        if checkprime(num):\n",
    "            primes[idx]= num\n",
    "            idx += 1\n",
    "    return primes"
   ]
  },
  {
   "cell_type": "markdown",
   "id": "7bb819e0",
   "metadata": {},
   "source": [
    "<h3 style=\"color:red\">3. Get Prime Number By Position</h3>"
   ]
  },
  {
   "cell_type": "code",
   "execution_count": 8,
   "id": "4897e3e1",
   "metadata": {},
   "outputs": [],
   "source": [
    "def GetPrimeByPosition(n, primes):\n",
    "    if n in primes:\n",
    "        return primes[n]\n",
    "    else:\n",
    "        return \"Position OFR\""
   ]
  },
  {
   "cell_type": "markdown",
   "id": "65fd40e2",
   "metadata": {},
   "source": [
    "<h1 style=\"text-align: center; color:orange\">Used function</h1>\n"
   ]
  },
  {
   "cell_type": "code",
   "execution_count": null,
   "id": "151b42bc",
   "metadata": {},
   "outputs": [],
   "source": [
    "mx = int(input(\"Enter upper limit for primes: \"))\n",
    "primes = GeneratePrimes(mx)\n",
    "print(f\"Prime dictionary created with {len(primes)} entries.\")\n",
    "while True:\n",
    "    print(\"1. View all primes\")\n",
    "    print(\"2. Get prime by position\")\n",
    "    print(\"3. Exit\")\n",
    "    primes= GeneratePrimes(mx)\n",
    "    enter = input(\"Enter your choice: \")\n",
    "    if enter == \"1\":\n",
    "        print(primes)\n",
    "    elif enter == \"2\":\n",
    "        idx = int(input(\"Enter index: \"))\n",
    "        prime = GetPrimeByPosition(idx, primes)\n",
    "        print(f\"Prime at index {idx} is: {prime}\")\n",
    "    elif enter == \"3\":\n",
    "        print(\"Exiting program.\")\n",
    "        break\n",
    "    else:\n",
    "        print(\"Nah, that’s not a valid option,try again.\")\n"
   ]
  }
 ],
 "metadata": {
  "kernelspec": {
   "display_name": "Python 3",
   "language": "python",
   "name": "python3"
  },
  "language_info": {
   "codemirror_mode": {
    "name": "ipython",
    "version": 3
   },
   "file_extension": ".py",
   "mimetype": "text/x-python",
   "name": "python",
   "nbconvert_exporter": "python",
   "pygments_lexer": "ipython3",
   "version": "3.11.9"
  }
 },
 "nbformat": 4,
 "nbformat_minor": 5
}
