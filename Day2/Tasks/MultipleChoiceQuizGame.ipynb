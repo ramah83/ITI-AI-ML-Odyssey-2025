{
 "cells": [
  {
   "cell_type": "markdown",
   "id": "3f9d3f12",
   "metadata": {},
   "source": [
    "<div style=\"text-align: center;\">\n",
    "    <h1 style=\"\n",
    "        background: linear-gradient(135deg, #cc5151ff, #614444ff); \n",
    "        color: white; \n",
    "        padding: 15px 30px; \n",
    "        border-radius: 500px; \n",
    "        font-family: 'Segoe UI', Arial, sans-serif; \n",
    "        box-shadow: 0 4px 15px rgba(0,0,0,0.3);\n",
    "        display: inline-block;\n",
    "    \">\n",
    "        Multiple-Choice Quiz Game\n",
    "    </h1>\n",
    "</div>\n"
   ]
  },
  {
   "cell_type": "markdown",
   "id": "9227dcc0",
   "metadata": {},
   "source": [
    "<h3 style=\"color:red\">1. import random && show question and answer </h3>"
   ]
  },
  {
   "cell_type": "code",
   "execution_count": 23,
   "id": "9ecd46a7",
   "metadata": {},
   "outputs": [],
   "source": [
    "import random\n",
    "quiz =  [\n",
    "    {\"question\": \"What is the capital of France?\", \"options\": [\"A) Paris\", \"B) London\", \"C) Rome\", \"D) Berlin\"], \"answer\": \"A\"},\n",
    "    {\"question\": \"2 + 2 equals what?\", \"options\": [\"A) 3\", \"B) 4\", \"C) 5\", \"D) 22\"], \"answer\": \"B\"},\n",
    "    {\"question\": \"Which planet is known as the Red Planet?\", \"options\": [\"A) Venus\", \"B) Mars\", \"C) Jupiter\", \"D) Saturn\"], \"answer\": \"B\"},\n",
    "    {\"question\": \"What is the largest ocean on Earth?\", \"options\": [\"A) Atlantic Ocean\", \"B) Indian Ocean\", \"C) Arctic Ocean\", \"D) Pacific Ocean\"], \"answer\": \"D\"},\n",
    "    {\"question\": \"Who wrote 'Hamlet'?\", \"options\": [\"A) William Wordsworth\", \"B) Charles Dickens\", \"C) William Shakespeare\", \"D) Jane Austen\"], \"answer\": \"C\"}\n",
    "    \n",
    "        ]"
   ]
  },
  {
   "cell_type": "markdown",
   "id": "9f844a81",
   "metadata": {},
   "source": [
    "<h3 style=\"color:red\">2.Make function Asked question</h3>"
   ]
  },
  {
   "cell_type": "code",
   "execution_count": 24,
   "id": "cf450ee8",
   "metadata": {},
   "outputs": [],
   "source": [
    "def Askquestion(question, number):\n",
    "    print(f\"Q{number}: {question['question']}\")\n",
    "    for solved in question[\"options\"]:\n",
    "        print(solved)\n",
    "    stdanswer = input(\"Your answer: \").strip().upper()\n",
    "    if stdanswer == question[\"answer\"]:\n",
    "        print(\"Correct\\n\")\n",
    "        return True\n",
    "    else:\n",
    "        print(f\"Incorrect The correct answer was {question['answer']}\\n\")\n",
    "        return False"
   ]
  },
  {
   "cell_type": "markdown",
   "id": "551fb537",
   "metadata": {},
   "source": [
    "<h3 style=\"color:red\">3.Make function get Result question</h3>"
   ]
  },
  {
   "cell_type": "code",
   "execution_count": 25,
   "id": "318120fe",
   "metadata": {},
   "outputs": [],
   "source": [
    "def resquiz(questions, ShiftQuestions=False, ShiftOptions=False):\n",
    "    score = 0\n",
    "    question = questions[:]\n",
    "    if ShiftQuestions:\n",
    "        random.shuffle(question)\n",
    "\n",
    "    for i, q in enumerate(question, start=1):\n",
    "        if ShiftOptions:\n",
    "            random.shuffle(q[\"options\"])\n",
    "        if Askquestion(q, i):\n",
    "            score += 1\n",
    "    return score, len(question)"
   ]
  },
  {
   "cell_type": "markdown",
   "id": "04f4a7df",
   "metadata": {},
   "source": [
    "<h3 style=\"color:red\">4.Make Function Show Score</h3>"
   ]
  },
  {
   "cell_type": "code",
   "execution_count": 26,
   "id": "8f72c8c3",
   "metadata": {},
   "outputs": [],
   "source": [
    "def Score(score, total):\n",
    "    print(f\"Your final score: {score}/{total}\")\n",
    "    print(f\"Percentage: {(score/total)*100:.1f}%\")"
   ]
  },
  {
   "cell_type": "markdown",
   "id": "e2072155",
   "metadata": {},
   "source": [
    "<h3 style=\"color:orange\">6.Used Function</h3>"
   ]
  },
  {
   "cell_type": "code",
   "execution_count": null,
   "id": "afcef31c",
   "metadata": {},
   "outputs": [],
   "source": [
    "print(\"Welcome to the Quiz Game!\")\n",
    "score, total = resquiz(quiz, ShiftQuestions=False, ShiftOptions=False)\n",
    "Score(score, total)"
   ]
  }
 ],
 "metadata": {
  "kernelspec": {
   "display_name": "base",
   "language": "python",
   "name": "python3"
  },
  "language_info": {
   "codemirror_mode": {
    "name": "ipython",
    "version": 3
   },
   "file_extension": ".py",
   "mimetype": "text/x-python",
   "name": "python",
   "nbconvert_exporter": "python",
   "pygments_lexer": "ipython3",
   "version": "3.13.5"
  }
 },
 "nbformat": 4,
 "nbformat_minor": 5
}
