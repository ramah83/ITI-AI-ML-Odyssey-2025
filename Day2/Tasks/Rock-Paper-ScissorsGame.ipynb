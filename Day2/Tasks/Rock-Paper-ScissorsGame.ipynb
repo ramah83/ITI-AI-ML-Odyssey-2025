{
 "cells": [
  {
   "cell_type": "markdown",
   "id": "271ab41f",
   "metadata": {},
   "source": [
    "<div style=\"text-align: center;\">\n",
    "    <h1 style=\"\n",
    "        background: linear-gradient(135deg, #cc5151ff, #614444ff); \n",
    "        color: white; \n",
    "        padding: 15px 30px; \n",
    "        border-radius: 500px; \n",
    "        font-family: 'Segoe UI', Arial, sans-serif; \n",
    "        box-shadow: 0 4px 15px rgba(0,0,0,0.3);\n",
    "        display: inline-block;\n",
    "    \">\n",
    "        Rock-Paper-Scissors Game\n",
    "    </h1>\n",
    "</div>\n"
   ]
  },
  {
   "cell_type": "markdown",
   "id": "7b75c25a",
   "metadata": {},
   "source": [
    "<h3 style=\"color:red\">1. import random && Choise state </h3>"
   ]
  },
  {
   "cell_type": "code",
   "execution_count": 5,
   "id": "d0d51c93",
   "metadata": {},
   "outputs": [],
   "source": [
    "import random\n",
    "state = [\"rock\", \"paper\", \"scissors\"]"
   ]
  },
  {
   "cell_type": "markdown",
   "id": "da2a78ab",
   "metadata": {},
   "source": [
    "<h3 style=\"color:red\">2.Make function Get User Choice  </h3>"
   ]
  },
  {
   "cell_type": "code",
   "execution_count": 4,
   "id": "138ff93a",
   "metadata": {},
   "outputs": [],
   "source": [
    "def GetUserChoice():\n",
    "    while True:\n",
    "        choice = input(\"Rock, Paper, or Scissors? \").strip().lower()\n",
    "        if choice in state:\n",
    "            return choice\n",
    "        print(\"Nah, that’s not a valid choise ,try again.\")"
   ]
  },
  {
   "cell_type": "markdown",
   "id": "02c71a1c",
   "metadata": {},
   "source": [
    "<h3 style=\"color:red\">3.Make function Get Computer Choice  </h3>"
   ]
  },
  {
   "cell_type": "code",
   "execution_count": 6,
   "id": "26e05847",
   "metadata": {},
   "outputs": [],
   "source": [
    "def GetComputerChoice():\n",
    "    return random.choice(state)"
   ]
  },
  {
   "cell_type": "markdown",
   "id": "f3ac7374",
   "metadata": {},
   "source": [
    "<h3 style=\"color:red\">4.Make function Determine Winner</h3>"
   ]
  },
  {
   "cell_type": "code",
   "execution_count": 7,
   "id": "16bac2d6",
   "metadata": {},
   "outputs": [],
   "source": [
    "def DetermineWinner(user, computer):\n",
    "    if user == computer:\n",
    "        return \"tie\", \"It's a tie!\"\n",
    "    wins = {\n",
    "        \"rock\": \"scissors\",\n",
    "        \"scissors\": \"paper\",\n",
    "        \"paper\": \"rock\"\n",
    "    }\n",
    "    if wins[user] == computer:\n",
    "        return \"user\", \"You win!\"\n",
    "    else:\n",
    "        return \"computer\", \"You lose!\""
   ]
  },
  {
   "cell_type": "markdown",
   "id": "4e1902d2",
   "metadata": {},
   "source": [
    "<h3 style=\"color:red\">5.Function to get and validate the Best-of-N rounds setting</h3>"
   ]
  },
  {
   "cell_type": "code",
   "execution_count": 2,
   "id": "3fc032b0",
   "metadata": {},
   "outputs": [],
   "source": [
    "def prompt():\n",
    "    ans = input(\"Play Best-of-N? (leave empty for unlimited) \").strip()\n",
    "    if not ans:\n",
    "        return None\n",
    "    while True:\n",
    "        try:\n",
    "            n = int(ans)\n",
    "            if n % 2 == 1 and n > 0:\n",
    "                return n\n",
    "            print(\"Please enter a positive odd number(e.g., 3, 5, 7)\")\n",
    "        except ValueError:\n",
    "            pass\n",
    "        ans = input(\"Enter again: \").strip()"
   ]
  },
  {
   "cell_type": "markdown",
   "id": "decffac0",
   "metadata": {},
   "source": [
    "<h3 style=\"color:red\">6.Save the game history to a file</h3>"
   ]
  },
  {
   "cell_type": "code",
   "execution_count": 8,
   "id": "443e3acf",
   "metadata": {},
   "outputs": [],
   "source": [
    "def SaveHistory(lines):\n",
    "    with open(\"history.txt\", \"a\") as f:\n",
    "        f.write(\"\\n----- New Session -----\\n\")\n",
    "        for line in lines:\n",
    "            f.write(line + \"\\n\")"
   ]
  },
  {
   "cell_type": "markdown",
   "id": "8e004d69",
   "metadata": {},
   "source": [
    "<h3 style=\"color:orange\">6.Playing && Used Function</h3>"
   ]
  },
  {
   "cell_type": "code",
   "execution_count": 9,
   "id": "fd6993ce",
   "metadata": {},
   "outputs": [
    {
     "name": "stdout",
     "output_type": "stream",
     "text": [
      "Welcome to the Rock-Paper-Scissors Game!\n",
      "Choose your weapon wisely!\n",
      "Options: Rock, Paper, Scissors\n",
      "\n",
      "--- Round 1 ---\n",
      "You chose: rock\n",
      "Computer chose: scissors\n",
      "You win!\n",
      "Score: You 1 - Computer 0\n",
      "\n",
      "--- Round 2 ---\n",
      "You chose: rock\n",
      "Computer chose: paper\n",
      "You lose!\n",
      "Score: You 1 - Computer 1\n",
      "\n",
      "--- Round 3 ---\n",
      "You chose: rock\n",
      "Computer chose: paper\n",
      "You lose!\n",
      "Score: You 1 - Computer 2\n",
      "\n",
      "-----------------------                       ---------------\n",
      "Computer won the match Better luck next time!\n",
      "----------------------------           -------------------------\n",
      "\n",
      "Session saved to history.txt\n"
     ]
    }
   ],
   "source": [
    "def PlayGame():\n",
    "    print(\"Welcome to the Rock-Paper-Scissors Game!\")\n",
    "    print(\"Choose your weapon wisely!\")\n",
    "    print(\"Options: Rock, Paper, Scissors\")\n",
    "    scuser = 0\n",
    "    sccomp = 0\n",
    "    history = []\n",
    "    n = prompt()\n",
    "    needed = (n // 2 + 1) if n else None\n",
    "\n",
    "    round_no = 1\n",
    "    while True:\n",
    "        print(f\"\\n--- Round {round_no} ---\")\n",
    "        user = GetUserChoice()\n",
    "        comp = GetComputerChoice()\n",
    "        winner, whowinner = DetermineWinner(user, comp)\n",
    "\n",
    "        print(f\"You chose: {user}\")\n",
    "        print(f\"Computer chose: {comp}\")\n",
    "        print(whowinner)\n",
    "\n",
    "        if winner == \"user\":\n",
    "            scuser += 1\n",
    "        elif winner == \"computer\":\n",
    "            sccomp += 1\n",
    "\n",
    "        history.append(f\"Round {round_no}: You={user}, Computer={comp}, Winner={winner}\")\n",
    "        print(f\"Score: You {scuser} - Computer {sccomp}\")\n",
    "\n",
    "        if needed and (scuser == needed or sccomp == needed):\n",
    "            print(\"\\n-----------------------                       ---------------\")\n",
    "            if scuser > sccomp:\n",
    "                print(\"Congratulations You ganna won the match.\")\n",
    "            else:\n",
    "                print(\"Computer won the match Better luck next time!\")\n",
    "            print(\"----------------------------           -------------------------\")\n",
    "            break\n",
    "\n",
    "        if not needed:\n",
    "            again = input(\"Play again? (y/n):\").strip().lower()\n",
    "            if again not in (\"y\", \"yes\"):\n",
    "                break\n",
    "\n",
    "        round_no += 1\n",
    "\n",
    "    SaveHistory(history)\n",
    "    print(\"\\nSession saved to history.txt\")\n",
    "\n",
    "\n",
    "\n",
    "\n",
    "PlayGame()"
   ]
  }
 ],
 "metadata": {
  "kernelspec": {
   "display_name": "Python 3",
   "language": "python",
   "name": "python3"
  },
  "language_info": {
   "codemirror_mode": {
    "name": "ipython",
    "version": 3
   },
   "file_extension": ".py",
   "mimetype": "text/x-python",
   "name": "python",
   "nbconvert_exporter": "python",
   "pygments_lexer": "ipython3",
   "version": "3.11.9"
  }
 },
 "nbformat": 4,
 "nbformat_minor": 5
}
