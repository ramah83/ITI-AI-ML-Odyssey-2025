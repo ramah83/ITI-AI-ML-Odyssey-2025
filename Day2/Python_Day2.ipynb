{
 "cells": [
  {
   "cell_type": "markdown",
   "id": "b798225e",
   "metadata": {},
   "source": [
    "# `1` Python Basics"
   ]
  },
  {
   "cell_type": "markdown",
   "id": "2b679238",
   "metadata": {},
   "source": [
    "**In this section, you will learn:**\n",
    "- How Python code is structured\n",
    "- Variables, data types, and type casting\n",
    "- Working with strings\n",
    "- Writing clean, readable code with comments"
   ]
  },
  {
   "cell_type": "markdown",
   "id": "09e19d1c",
   "metadata": {},
   "source": [
    "## Python Syntax\n",
    "\n",
    "Python emphasizes readability:\n",
    "- No `{}` braces — indentation defines code blocks\n",
    "- Case-sensitive (`Age` is different from `age`)\n",
    "- Statements end with a newline (no need for `;`)\n",
    "- Use `#` for comments\n"
   ]
  },
  {
   "cell_type": "code",
   "execution_count": null,
   "id": "8bfffb00",
   "metadata": {},
   "outputs": [
    {
     "name": "stdout",
     "output_type": "stream",
     "text": [
      "Hello, Python!\n"
     ]
    }
   ],
   "source": [
    "# This is a single-line comment\n",
    "\"\"\"\n",
    "This is a multi-line comment\n",
    "Often used for docstrings in functions or modules\n",
    "\"\"\"\n",
    "\n",
    "print(\"Hello, Python!\")  # Inline comment"
   ]
  },
  {
   "cell_type": "markdown",
   "id": "ea9cbb47",
   "metadata": {},
   "source": [
    "## Variables\n",
    "\n",
    "- No need to declare type (Python is dynamically typed)\n",
    "- Naming rules:\n",
    "  - Can contain letters, digits, underscores\n",
    "  - Must start with a letter or underscore\n",
    "  - Cannot be a reserved keyword (`for`, `if`, `class`, etc.)\n"
   ]
  },
  {
   "cell_type": "code",
   "execution_count": 7,
   "id": "47eaf00b",
   "metadata": {},
   "outputs": [
    {
     "name": "stdout",
     "output_type": "stream",
     "text": [
      "Ali\n",
      "28\n",
      "3.14159\n",
      "True\n",
      "Now this is a string\n"
     ]
    }
   ],
   "source": [
    "# Valid variables\n",
    "name = \"Ali\"\n",
    "age = 28\n",
    "pi_value = 3.14159\n",
    "is_hungry = True\n",
    "\n",
    "# Multiple assignments\n",
    "x, y, z = 1, 2, 3\n",
    "\n",
    "# Dynamic typing\n",
    "x = 10\n",
    "x = \"Now this is a string\"\n",
    "\n",
    "print(name, age, pi_value, is_hungry, x, sep = '\\n')\n"
   ]
  },
  {
   "cell_type": "markdown",
   "id": "a8b18c48",
   "metadata": {},
   "source": [
    "## Data Types\n",
    "\n",
    "**Basic types in Python:**\n",
    "- `int` → whole numbers\n",
    "- `float` → decimal numbers\n",
    "- `str` → text\n",
    "- `bool` → `True` or `False`\n",
    "- `NoneType` → no value\n"
   ]
  },
  {
   "cell_type": "code",
   "execution_count": 6,
   "id": "313a06a8",
   "metadata": {},
   "outputs": [
    {
     "name": "stdout",
     "output_type": "stream",
     "text": [
      "<class 'int'>\n",
      "<class 'float'>\n",
      "<class 'str'>\n",
      "<class 'bool'>\n",
      "<class 'NoneType'>\n",
      "3\n",
      "5.0\n",
      "100\n"
     ]
    }
   ],
   "source": [
    "a = 42               # int\n",
    "b = 3.14             # float\n",
    "c = \"Python\"         # str\n",
    "d = True             # bool\n",
    "e = None             # NoneType\n",
    "\n",
    "print(type(a), type(b), type(c), type(d), type(e), sep = '\\n')\n",
    "\n",
    "# Casting\n",
    "print(int(3.99))\n",
    "print(float(5))\n",
    "print(str(100))"
   ]
  },
  {
   "cell_type": "markdown",
   "id": "67ac5699",
   "metadata": {},
   "source": [
    "## Strings in Python\n",
    "\n",
    "- A string is a sequence of characters.\n",
    "- In Python, strings are **immutable** — you cannot change them in place.\n",
    "- Strings support indexing, slicing, and many built-in methods.\n"
   ]
  },
  {
   "cell_type": "markdown",
   "id": "93d0d337",
   "metadata": {},
   "source": [
    "### Indexing\n",
    "\n",
    "- **Zero-based indexing**: First character is at index `0`.\n",
    "- Negative indexing starts from the end: `-1` is the last character.\n"
   ]
  },
  {
   "cell_type": "code",
   "execution_count": 8,
   "id": "ea8b7bde",
   "metadata": {},
   "outputs": [
    {
     "name": "stdout",
     "output_type": "stream",
     "text": [
      "P\n",
      "y\n",
      "n\n",
      "o\n",
      "P y t h o n "
     ]
    }
   ],
   "source": [
    "word = \"Python\"\n",
    "\n",
    "print(word[0])   # 'P' - first character\n",
    "print(word[1])   # 'y'\n",
    "print(word[-1])  # 'n' - last character\n",
    "print(word[-2])  # 'o' - second last character\n",
    "\n",
    "# Accessing characters\n",
    "for char in word:\n",
    "    print(char, end=\" \")\n"
   ]
  },
  {
   "cell_type": "markdown",
   "id": "9729fe3e",
   "metadata": {},
   "source": [
    "### Slicing\n",
    "\n",
    "Syntax: `string[start:end:step]`\n",
    "\n",
    "- `start`: index to begin (inclusive)\n",
    "- `end`: index to stop (exclusive)\n",
    "- `step`: how many characters to skip (default is 1)\n"
   ]
  },
  {
   "cell_type": "code",
   "execution_count": 9,
   "id": "cbe81676",
   "metadata": {},
   "outputs": [
    {
     "name": "stdout",
     "output_type": "stream",
     "text": [
      "Hello\n",
      "World\n",
      "Hello\n",
      "World!\n",
      "Hlo ol!\n",
      "!dlroW ,olleH\n"
     ]
    }
   ],
   "source": [
    "text = \"Hello, World!\"\n",
    "\n",
    "print(text[0:5])    # 'Hello'\n",
    "print(text[7:12])   # 'World'\n",
    "print(text[:5])     # from start to index 4\n",
    "print(text[7:])     # from index 7 to end\n",
    "print(text[::2])    # every second character\n",
    "print(text[::-1])   # reverse the string\n"
   ]
  },
  {
   "cell_type": "markdown",
   "id": "ef8f983f",
   "metadata": {},
   "source": [
    "### Common String Methods\n",
    "\n",
    "- **Case conversion**:\n",
    "  - `.upper()` -> all uppercase\n",
    "  - `.lower()` -> all lowercase\n",
    "  - `.title()` -> capitalize each word\n",
    "- **Trimming spaces**:\n",
    "  - `.strip()` -> remove leading/trailing spaces\n",
    "  - `.lstrip()` / `.rstrip()` -> remove from left/right\n",
    "- **Searching & replacing**:\n",
    "  - `.find(substring)` -> index of first occurrence\n",
    "  - `.replace(old, new)` -> replace substring\n",
    "- **Splitting & joining**:\n",
    "  - `.split(delimiter)` -> list of words\n",
    "  - `delimiter.join(list)` -> join list into string\n"
   ]
  },
  {
   "cell_type": "code",
   "execution_count": 11,
   "id": "f8bd2bc6",
   "metadata": {},
   "outputs": [
    {
     "name": "stdout",
     "output_type": "stream",
     "text": [
      "  PYTHON IS AWESOME  \n",
      "  python is awesome  \n",
      "  Python Is Awesome  \n",
      "Python is Awesome\n",
      "9\n",
      "  Python is Fun  \n",
      "['Python', 'is', 'Awesome']\n",
      "Python-is-Awesome\n"
     ]
    }
   ],
   "source": [
    "s = \"  Python is Awesome  \"\n",
    "\n",
    "print(s.upper())\n",
    "print(s.lower())\n",
    "print(s.title())\n",
    "print(s.strip())\n",
    "print(s.find(\"is\"))\n",
    "print(s.replace(\"Awesome\", \"Fun\"))\n",
    "\n",
    "# Splitting and joining\n",
    "words = s.split()\n",
    "print(words)\n",
    "print(\"-\".join(words))\n"
   ]
  },
  {
   "cell_type": "markdown",
   "id": "a22a264d",
   "metadata": {},
   "source": [
    "## Reading Input from the User\n",
    "\n",
    "- Use `input(prompt)` to read user input from the console.\n",
    "- **Important:** `input()` always returns a **string**.\n",
    "- You can convert the string to other types using casting functions:\n",
    "  - `int()` → integer\n",
    "  - `float()` → decimal number\n",
    "  - `bool()` → boolean (`bool()` considers empty strings as `False`, all others `True`)\n",
    "\n",
    "**Tip:** Always validate or handle errors when converting types.\n"
   ]
  },
  {
   "cell_type": "code",
   "execution_count": 82,
   "id": "c883daae",
   "metadata": {},
   "outputs": [
    {
     "name": "stdout",
     "output_type": "stream",
     "text": [
      "Hello, ali!\n",
      "Next year, you'll be 29 years old.\n",
      "You are 1.80 meters tall.\n"
     ]
    }
   ],
   "source": [
    "name = input(\"Enter your name: \")\n",
    "print(f\"Hello, {name}!\")\n",
    "\n",
    "age_str = input(\"Enter your age: \")\n",
    "age = int(age_str)  # convert to int\n",
    "print(f\"Next year, you'll be {age + 1} years old.\")\n",
    "\n",
    "height = float(input(\"Enter your height in meters: \"))\n",
    "print(f\"You are {height:.2f} meters tall.\")"
   ]
  },
  {
   "cell_type": "markdown",
   "id": "ba209a3b",
   "metadata": {},
   "source": [
    "## Printing & f-Strings\n",
    "\n",
    "- Python's `print()` outputs text to the console.\n",
    "- You can use **f-strings** (formatted string literals) for cleaner and more readable output.\n",
    "\n",
    "**Syntax:**\n",
    "```python\n",
    "name = \"Ali\"\n",
    "print(f\"Hello, {name}!\")   # Directly insert variables in {}\n",
    "```\n",
    "\n",
    "**Features:**\n",
    "\n",
    "- You can run expressions inside `{}` → `f\"{2 + 3}\"`\n",
    "\n",
    "- Control formatting:\n",
    "\n",
    "  - `f\"{value:.2f}\"` → 2 decimal places\n",
    "  - `f\"{value:>5}\"` → right align in width 5\n",
    "  - `f\"{value:^10}\"` → center align in width 10"
   ]
  },
  {
   "cell_type": "code",
   "execution_count": 39,
   "id": "6f567d28",
   "metadata": {},
   "outputs": [
    {
     "name": "stdout",
     "output_type": "stream",
     "text": [
      "Hello, Ali. You are 28 years old.\n",
      "In 5 years, you will be 33 years old.\n",
      "Pi rounded to 2 decimals: 3.14\n",
      "Pi padded right-aligned (width 10):      3.14159265\n",
      "Pi centered (width 12):    3.142    \n"
     ]
    }
   ],
   "source": [
    "\n",
    "name = \"Ali\"\n",
    "age = 28\n",
    "pi = 3.14159265\n",
    "\n",
    "print(f\"Hello, {name}. You are {age} years old.\")\n",
    "print(f\"In 5 years, you will be {age + 5} years old.\")\n",
    "print(f\"Pi rounded to 2 decimals: {pi:.2f}\")\n",
    "print(f\"Pi padded right-aligned (width 10): {pi:>15}\")\n",
    "print(f\"Pi centered (width 12): {pi:^12.3f}\")\n"
   ]
  },
  {
   "cell_type": "markdown",
   "id": "e932cfd7",
   "metadata": {},
   "source": [
    "# `2` Operators & Control Flow"
   ]
  },
  {
   "cell_type": "markdown",
   "id": "862fdd34",
   "metadata": {},
   "source": [
    "**You’ll learn:**\n",
    "- All core Python operators (arithmetic, comparison, boolean, bitwise, assignment, identity, membership)\n",
    "- Truthiness & falsy values\n",
    "- `if / elif / else`, conditional expressions (ternary), and short-circuiting\n",
    "- Minimal intro to exceptions as control flow (`try / except / else / finally`)\n"
   ]
  },
  {
   "cell_type": "markdown",
   "id": "54924fc9",
   "metadata": {},
   "source": [
    "## Operator Overview\n",
    "\n",
    "| Category        | Operators                                  | Example           | Notes |\n",
    "|---              |---                                          |---                |---|\n",
    "| Arithmetic      | `+` `-` `*` `/` `//` `%` `**`                           | `7 // 3 == 2`     | `//` is floor division; `**` exponent |\n",
    "| Comparison      | `==` `!=` `<` `<=` `>` `>=`                           | `3 < 5`           | Returns `bool` |\n",
    "| Boolean (logic) | `and` `or` `not`                                | `a and b`         | Short-circuiting |\n",
    "| Bitwise         | `&` `\\|` `^` `~` `<<` `>>`                             | `5 & 3 == 1`      | Works on integers |\n",
    "| Assignment      | `=` `+=` `-=` `*=` `/=` `//=` `%=` `**=` `&=` `\\|=` `^=` `<<=` `>>=` | `x += 1`          | In-place update |\n",
    "| Identity        | `is` `is not`                                | `x is None`       | Object identity (not equality) |\n",
    "| Membership      | `in` `not in`                                | `\"py\" in \"python\"`| Substring membership for strings |\n"
   ]
  },
  {
   "cell_type": "markdown",
   "id": "659faea6",
   "metadata": {},
   "source": [
    "## Numbers in Python\n",
    "\n",
    "Python has several numeric types:\n",
    "\n",
    "| Type     | Example       | Notes |\n",
    "|---       |---            |---|\n",
    "| `int`    | `42`          | Arbitrary precision integers |\n",
    "| `float`  | `3.14`        | Double precision floating point |\n",
    "| `complex`| `2 + 3j`      | Complex numbers (real + imaginary part) |\n",
    "\n",
    "**Tip:** Use `type(value)` to check the type.\n"
   ]
  },
  {
   "cell_type": "code",
   "execution_count": 40,
   "id": "882301da",
   "metadata": {},
   "outputs": [
    {
     "name": "stdout",
     "output_type": "stream",
     "text": [
      "<class 'int'> 42\n",
      "<class 'float'> 3.14\n",
      "<class 'complex'> (2+3j) Real: 2.0 Imag: 3.0\n"
     ]
    }
   ],
   "source": [
    "a = 42\n",
    "b = 3.14\n",
    "c = 2 + 3j\n",
    "\n",
    "print(type(a), a)\n",
    "print(type(b), b)\n",
    "print(type(c), c, \"Real:\", c.real, \"Imag:\", c.imag)\n"
   ]
  },
  {
   "cell_type": "markdown",
   "id": "c25a4909",
   "metadata": {},
   "source": [
    "### Arithmetic Details\n",
    "\n",
    "- `/` always returns `float` (e.g., `4 / 2 == 2.0`).\n",
    "- `//` always rounds down (`-3 // 2 == -2`).\n",
    "- `%` keeps the divisor’s sign: `-3 % 2 == 1`.\n",
    "- `**` exponentiation is right-associative (`2 ** 3 ** 2 == 2 ** 9 == 512`).\n"
   ]
  },
  {
   "cell_type": "code",
   "execution_count": null,
   "id": "a8dff1af",
   "metadata": {},
   "outputs": [
    {
     "name": "stdout",
     "output_type": "stream",
     "text": [
      "2.0 <class 'float'>\n",
      "2.3333333333333335 2\n",
      "-2.3333333333333335 -3\n",
      "1 2\n",
      "512\n"
     ]
    }
   ],
   "source": [
    "print(4 / 2, type(4 / 2))        # 2.0 <class 'float'>\n",
    "print(7 / 3, 7 // 3)             # 2.333333    2\n",
    "print(-7 / 3, -7 // 3)           # -2.333333  -3\n",
    "print(7 % 3, -7 % 3)             # 1  2\n",
    "print(2 ** 3 ** 2)               # 512\n"
   ]
  },
  {
   "cell_type": "markdown",
   "id": "e5b8fe0e",
   "metadata": {},
   "source": [
    "### Useful Built-in Functions\n",
    "\n",
    "| Function   | Description             | Example         | Output |\n",
    "|---         |---                       |---              |---|\n",
    "| `abs(x)`   | Absolute value           | `abs(-5)`       | `5` |\n",
    "| `round(x, n)`| Round to `n` decimals  | `round(3.14159, 2)` | `3.14` |\n",
    "| `pow(x, y)`| x to the power y         | `pow(2, 3)`     | `8` |\n",
    "| `divmod(a, b)`| Quotient & remainder  | `divmod(7, 3)`  | `(2, 1)` |\n",
    "| `max()`    | Largest of args          | `max(4, 9, 2)`  | `9` |\n",
    "| `min()`    | Smallest of args         | `min(4, 9, 2)`  | `2` |\n"
   ]
  },
  {
   "cell_type": "code",
   "execution_count": 41,
   "id": "9244ae94",
   "metadata": {},
   "outputs": [
    {
     "name": "stdout",
     "output_type": "stream",
     "text": [
      "5\n",
      "3.14\n",
      "8\n",
      "(2, 1)\n",
      "9\n",
      "2\n"
     ]
    }
   ],
   "source": [
    "print(abs(-5))\n",
    "print(round(3.14159, 2))\n",
    "print(pow(2, 3))\n",
    "print(divmod(7, 3))\n",
    "print(max(4, 9, 2))\n",
    "print(min(4, 9, 2))\n"
   ]
  },
  {
   "cell_type": "markdown",
   "id": "e6dc4e02",
   "metadata": {},
   "source": [
    "### The `math` Module\n",
    "\n",
    "Provides advanced mathematical functions (works with real numbers):\n",
    "\n",
    "| Function             | Description                          | Example              | Output |\n",
    "|---                   |---                                   |---                   |---|\n",
    "| `math.sqrt(x)`       | Square root                          | `math.sqrt(16)`      | `4.0` |\n",
    "| `math.factorial(x)`  | Factorial (int only)                  | `math.factorial(5)`  | `120` |\n",
    "| `math.floor(x)`      | Round down to nearest int             | `math.floor(3.7)`    | `3` |\n",
    "| `math.ceil(x)`       | Round up to nearest int               | `math.ceil(3.2)`     | `4` |\n",
    "| `math.pi`            | π constant                           | `math.pi`            | `3.1415926535` |\n",
    "| `math.e`             | Euler's number                       | `math.e`             | `2.7182818284` |\n",
    "| `math.sin(x)`        | Sine (x in radians)                   | `math.sin(math.pi/2)`| `1.0` |\n",
    "| `math.log(x, base)`  | Logarithm with optional base          | `math.log(8, 2)`     | `3.0` |\n"
   ]
  },
  {
   "cell_type": "code",
   "execution_count": 42,
   "id": "fe5bda3a",
   "metadata": {},
   "outputs": [
    {
     "name": "stdout",
     "output_type": "stream",
     "text": [
      "4.0\n",
      "120\n",
      "3\n",
      "4\n",
      "3.141592653589793 2.718281828459045\n",
      "1.0\n",
      "3.0\n"
     ]
    }
   ],
   "source": [
    "import math\n",
    "\n",
    "print(math.sqrt(16))\n",
    "print(math.factorial(5))\n",
    "print(math.floor(3.7))\n",
    "print(math.ceil(3.2))\n",
    "print(math.pi, math.e)\n",
    "print(math.sin(math.pi / 2))\n",
    "print(math.log(8, 2))\n"
   ]
  },
  {
   "cell_type": "markdown",
   "id": "cfb0ce1c",
   "metadata": {},
   "source": [
    "### Comparison & Chaining\n",
    "\n",
    "- Standard comparisons return `True/False`.\n",
    "- Python supports **chained comparisons**: `0 < x < 10` is equivalent to `(0 < x) and (x < 10)`.\n",
    "- Floating-point equality is fragile; prefer tolerances: `abs(a - b) < 1e-9`.\n"
   ]
  },
  {
   "cell_type": "code",
   "execution_count": 17,
   "id": "c24100ab",
   "metadata": {},
   "outputs": [
    {
     "name": "stdout",
     "output_type": "stream",
     "text": [
      "True\n",
      "False\n",
      "True\n"
     ]
    }
   ],
   "source": [
    "x = 7\n",
    "print(3 < x <= 10)               # True\n",
    "a, b = 0.1 + 0.2, 0.3\n",
    "print(a == b)                    # False (floating point)\n",
    "print(abs(a - b) < 1e-9)         # True"
   ]
  },
  {
   "cell_type": "markdown",
   "id": "15345f04",
   "metadata": {},
   "source": [
    "### Truthiness in `if` conditions\n",
    "\n",
    "**Falsy values** (evaluate to `False` in conditionals):\n",
    "\n",
    "| Value            | Example          |\n",
    "|---               |---               |\n",
    "| `False`          | `False`          |\n",
    "| `None`           | `None`           |\n",
    "| Numeric zero     | `0`, `0.0`, `0j` |\n",
    "| Empty string     | `\"\"`             |\n",
    "\n",
    "*(Empty containers are also falsy, but we’re covering containers later.)*\n",
    "\n",
    "**Tip:** Don’t compare to `True/False`. Prefer `if value:` or `if not value:`.\n"
   ]
  },
  {
   "cell_type": "code",
   "execution_count": 20,
   "id": "72107559",
   "metadata": {},
   "outputs": [
    {
     "name": "stdout",
     "output_type": "stream",
     "text": [
      "   False -> False\n",
      "    None -> False\n",
      "       0 -> False\n",
      "     0.0 -> False\n",
      "      0j -> False\n",
      "      '' -> False\n",
      "    'hi' -> True\n"
     ]
    }
   ],
   "source": [
    "def describe(v):\n",
    "    print(f\"{repr(v):>8} -> {bool(v)}\")\n",
    "\n",
    "describe(False)\n",
    "describe(None)\n",
    "describe(0)\n",
    "describe(0.0)\n",
    "describe(0j)\n",
    "describe(\"\")\n",
    "describe(\"hi\")\n"
   ]
  },
  {
   "cell_type": "markdown",
   "id": "0c4530fb",
   "metadata": {},
   "source": [
    "### `is` vs `==`\n",
    "\n",
    "- `==` checks **value equality**.\n",
    "- `is` checks **object identity** (same object in memory).\n",
    "- Use `is None` and `is not None` for sentinel checks; avoid `== None`.\n"
   ]
  },
  {
   "cell_type": "code",
   "execution_count": 23,
   "id": "b3d4b6f3",
   "metadata": {},
   "outputs": [
    {
     "name": "stdout",
     "output_type": "stream",
     "text": [
      "True\n",
      "False\n",
      "True\n"
     ]
    }
   ],
   "source": [
    "x = 500\n",
    "y = 500\n",
    "print(x == y)      # True (same value)\n",
    "print(x is y)      # False (implementation-dependent; don't rely on identity for numbers/strings)\n",
    "\n",
    "z = None\n",
    "print(z is None)   # True\n"
   ]
  },
  {
   "cell_type": "markdown",
   "id": "28834ca4",
   "metadata": {},
   "source": [
    "### Membership on Strings\n",
    "\n",
    "- `'sub' in 'string'` checks substring presence.\n",
    "- Case-sensitive; combine with `.lower()`/`.upper()` for case-insensitive checks.\n"
   ]
  },
  {
   "cell_type": "code",
   "execution_count": null,
   "id": "b9dbd147",
   "metadata": {},
   "outputs": [
    {
     "name": "stdout",
     "output_type": "stream",
     "text": [
      "True\n",
      "False\n",
      "True\n"
     ]
    }
   ],
   "source": [
    "s = \"Pythonista\"\n",
    "print(\"thon\" in s)          # True\n",
    "print(\"Thon\" in s)          # False\n",
    "print(\"python\" in s.lower())  # True"
   ]
  },
  {
   "cell_type": "markdown",
   "id": "59dd0151",
   "metadata": {},
   "source": [
    "### Bitwise (Integers Only)\n",
    "\n",
    "| Op  | Meaning            | Example      | Result |\n",
    "|---  |---                 |---           |---|\n",
    "| `&` | AND                | `5 & 3`      | `1` (0101 & 0011 → 0001) |\n",
    "| `\\|` | OR                 | `5 \\| 3`     | `7` (0101 \\| 0011 → 0111) |\n",
    "| `^` | XOR                | `5 ^ 3`      | `6` (0101 ^ 0011 → 0110) |\n",
    "| `~` | NOT (invert bits) | `~5`         | `-6` (two’s complement) |\n",
    "| `<<`| Shift left         | `5 << 1`     | `10` (101 → 1010) |\n",
    "| `>>`| Shift right        | `5 >> 1`     | `2`  (101 → 01) |\n"
   ]
  },
  {
   "cell_type": "code",
   "execution_count": 26,
   "id": "2d58b89f",
   "metadata": {},
   "outputs": [
    {
     "name": "stdout",
     "output_type": "stream",
     "text": [
      "1\n",
      "7\n",
      "6\n",
      "-6\n",
      "10\n",
      "2\n"
     ]
    }
   ],
   "source": [
    "print(5 & 3)\n",
    "print(5 | 3)\n",
    "print(5 ^ 3)\n",
    "print(~5)\n",
    "print(5 << 1)\n",
    "print(5 >> 1)"
   ]
  },
  {
   "cell_type": "markdown",
   "id": "7f131100",
   "metadata": {},
   "source": [
    "### Operator Precedence (high → low, common subset)\n",
    "\n",
    "1. `**`\n",
    "2. `~` (bitwise not), unary `+` `-`\n",
    "3. `*` `/` `//` `%`\n",
    "4. `+` `-`\n",
    "5. `<<` `>>`\n",
    "6. `&`\n",
    "7. `^`\n",
    "8. `\\|`\n",
    "9. Comparisons: `<` `<=` `>` `>=` `!=` `==`\n",
    "10. `not`\n",
    "11. `and`\n",
    "12. `or`\n",
    "\n",
    "Use parentheses when in doubt. Readability beats memorization.\n"
   ]
  },
  {
   "cell_type": "code",
   "execution_count": 27,
   "id": "462983f9",
   "metadata": {},
   "outputs": [
    {
     "name": "stdout",
     "output_type": "stream",
     "text": [
      "14\n",
      "20\n",
      "True\n",
      "False\n"
     ]
    }
   ],
   "source": [
    "print(2 + 3 * 4)          # 14\n",
    "print((2 + 3) * 4)        # 20\n",
    "print(True or False and False)    # True (and before or)\n",
    "print((True or False) and False)  # False\n"
   ]
  },
  {
   "cell_type": "markdown",
   "id": "6d40c60d",
   "metadata": {},
   "source": [
    "## Control Flow: `if / elif / else`\n",
    "\n",
    "- Standard conditional branching.\n",
    "- Conditions use truthiness rules.\n",
    "- Prefer descriptive boolean expressions over magic numbers.\n"
   ]
  },
  {
   "cell_type": "code",
   "execution_count": 30,
   "id": "a065a3d1",
   "metadata": {},
   "outputs": [
    {
     "name": "stdout",
     "output_type": "stream",
     "text": [
      "Adult\n"
     ]
    }
   ],
   "source": [
    "age = 20\n",
    "\n",
    "if age < 0:\n",
    "    print(\"Invalid age\")\n",
    "elif age < 18:\n",
    "    print(\"Minor\")\n",
    "elif age == 18:\n",
    "    print(\"Fresh adult\")\n",
    "else:\n",
    "    print(\"Adult\")\n"
   ]
  },
  {
   "cell_type": "markdown",
   "id": "9cd0fbe7",
   "metadata": {},
   "source": [
    "### Conditional Expression (Ternary)\n",
    "\n",
    "**Syntax:** `A if condition else B`  \n",
    "Good for short, readable one-liners.\n"
   ]
  },
  {
   "cell_type": "code",
   "execution_count": 31,
   "id": "48caa575",
   "metadata": {},
   "outputs": [
    {
     "name": "stdout",
     "output_type": "stream",
     "text": [
      "hot\n"
     ]
    }
   ],
   "source": [
    "temp_c = 30\n",
    "label = \"hot\" if temp_c >= 30 else \"cool\"\n",
    "print(label)\n"
   ]
  },
  {
   "cell_type": "markdown",
   "id": "93f0f549",
   "metadata": {},
   "source": [
    "### Minimal Exceptions as Control Flow\n",
    "\n",
    "- `try / except` to handle expected failures cleanly.\n",
    "- Optional `else` runs if no exception; `finally` runs regardless.\n"
   ]
  },
  {
   "cell_type": "code",
   "execution_count": 33,
   "id": "ec890b20",
   "metadata": {},
   "outputs": [
    {
     "name": "stdout",
     "output_type": "stream",
     "text": [
      "Parsed: 42\n",
      "Done.\n"
     ]
    }
   ],
   "source": [
    "text = \" 42 \"\n",
    "try:\n",
    "    value = int(text.strip())\n",
    "except ValueError:\n",
    "    print(\"Not an integer\")\n",
    "else:\n",
    "    print(\"Parsed:\", value)\n",
    "finally:\n",
    "    print(\"Done.\")\n"
   ]
  },
  {
   "cell_type": "markdown",
   "id": "9d565f99",
   "metadata": {},
   "source": [
    "### Basic Validation\n",
    "\n",
    "- Before converting to numbers, check with `.isdigit()` for integers.\n",
    "- For more complex validation, use `try / except`."
   ]
  },
  {
   "cell_type": "code",
   "execution_count": 83,
   "id": "2290d5e5",
   "metadata": {},
   "outputs": [
    {
     "name": "stdout",
     "output_type": "stream",
     "text": [
      "Your age is 28\n",
      "Fahrenheit: 91.4\n"
     ]
    }
   ],
   "source": [
    "age_str = input(\"Enter your age: \")\n",
    "if age_str.isdigit():\n",
    "    age = int(age_str)\n",
    "    print(f\"Your age is {age}\")\n",
    "else:\n",
    "    print(\"Invalid age input\")\n",
    "\n",
    "# Using try/except\n",
    "try:\n",
    "    temp = float(input(\"Enter temperature in Celsius: \"))\n",
    "    print(f\"Fahrenheit: {temp * 9/5 + 32}\")\n",
    "except ValueError:\n",
    "    print(\"Invalid number entered\")\n"
   ]
  },
  {
   "cell_type": "markdown",
   "id": "4f21c328",
   "metadata": {},
   "source": [
    "### Pitfalls (Read These Twice)\n",
    "\n",
    "- Don’t use `is` for string/number comparison; use `==`. Only use `is` with `None`.\n",
    "- Remember: `/` → float, `//` floors toward **negative infinity**.\n",
    "- `and`/`or` return operands (not necessarily `bool`). Great for defaulting, foot-guns if you expect `True/False`.\n",
    "- Floating-point equality: use a tolerance (`abs(a-b) < eps`).\n",
    "- Chained comparisons read left→right: `a < b < c`.\n"
   ]
  },
  {
   "cell_type": "markdown",
   "id": "e5f55f66",
   "metadata": {},
   "source": [
    "# `3` Loops"
   ]
  },
  {
   "cell_type": "markdown",
   "id": "11766577",
   "metadata": {},
   "source": [
    "**You’ll learn:**\n",
    "- `while` loops\n",
    "- `for` loops (with `range` and strings)\n",
    "- Loop control keywords: `break`, `continue`, `pass`\n",
    "- `else` clause with loops\n",
    "- Nesting loops\n"
   ]
  },
  {
   "cell_type": "markdown",
   "id": "7de5cdcf",
   "metadata": {},
   "source": [
    "## `while` Loops\n",
    "\n",
    "- Run a block **while** a condition is `True`.\n",
    "- The condition is checked **before** each iteration.\n",
    "- Ensure the condition changes inside the loop to avoid infinite loops.\n"
   ]
  },
  {
   "cell_type": "code",
   "execution_count": 43,
   "id": "683352b5",
   "metadata": {},
   "outputs": [
    {
     "name": "stdout",
     "output_type": "stream",
     "text": [
      "Count: 1\n",
      "Count: 2\n",
      "Count: 3\n",
      "Count: 4\n",
      "Count: 5\n"
     ]
    }
   ],
   "source": [
    "count = 1\n",
    "while count <= 5:\n",
    "    print(\"Count:\", count)\n",
    "    count += 1  # increment to avoid infinite loop\n"
   ]
  },
  {
   "cell_type": "markdown",
   "id": "75372111",
   "metadata": {},
   "source": [
    "## `for` Loops with `range`\n",
    "\n",
    "- `range(stop)` → from 0 up to (but not including) `stop`\n",
    "- `range(start, stop)` → from `start` up to (but not including) `stop`\n",
    "- `range(start, stop, step)` → with a custom increment or decrement\n",
    "- `stop` must be greater than `start` for a positive step\n",
    "- Negative steps count backwards\n"
   ]
  },
  {
   "cell_type": "code",
   "execution_count": 44,
   "id": "c0555c2a",
   "metadata": {},
   "outputs": [
    {
     "name": "stdout",
     "output_type": "stream",
     "text": [
      "0 1 2 3 4 \n",
      "2 3 4 5 6 \n",
      "10 8 6 4 2 "
     ]
    }
   ],
   "source": [
    "for i in range(5):          # 0 to 4\n",
    "    print(i, end=\" \")\n",
    "print()\n",
    "\n",
    "for i in range(2, 7):       # 2 to 6\n",
    "    print(i, end=\" \")\n",
    "print()\n",
    "\n",
    "for i in range(10, 0, -2):  # 10 to 2, step -2\n",
    "    print(i, end=\" \")\n"
   ]
  },
  {
   "cell_type": "markdown",
   "id": "b7f9080d",
   "metadata": {},
   "source": [
    "## Looping Over Strings\n",
    "\n",
    "- Strings are sequences of characters — you can iterate over them directly.\n"
   ]
  },
  {
   "cell_type": "code",
   "execution_count": 45,
   "id": "b2daa545",
   "metadata": {},
   "outputs": [
    {
     "name": "stdout",
     "output_type": "stream",
     "text": [
      "P y t h o n "
     ]
    }
   ],
   "source": [
    "word = \"Python\"\n",
    "for ch in word:\n",
    "    print(ch, end=\" \")\n"
   ]
  },
  {
   "cell_type": "markdown",
   "id": "be438e57",
   "metadata": {},
   "source": [
    "## `break` & `continue`\n",
    "\n",
    "- `break` → immediately exit the loop.\n",
    "- `continue` → skip the rest of the current iteration and go to the next.\n"
   ]
  },
  {
   "cell_type": "code",
   "execution_count": 50,
   "id": "1569edea",
   "metadata": {},
   "outputs": [
    {
     "name": "stdout",
     "output_type": "stream",
     "text": [
      "Consonant: P\n",
      "Consonant: y\n",
      "Consonant: t\n",
      "Consonant: h\n",
      "Found vowel: o\n"
     ]
    }
   ],
   "source": [
    "# break example: stop at first vowel\n",
    "text = \"Python\"\n",
    "for ch in text:\n",
    "    if ch in \"aeiou\":\n",
    "        print(\"Found vowel:\", ch)\n",
    "        break\n",
    "    print(\"Consonant:\", ch)\n"
   ]
  },
  {
   "cell_type": "code",
   "execution_count": 51,
   "id": "8f95cd4f",
   "metadata": {},
   "outputs": [
    {
     "name": "stdout",
     "output_type": "stream",
     "text": [
      "Consonant: P\n",
      "Consonant: y\n",
      "Consonant: t\n",
      "Consonant: h\n",
      "Consonant: n\n"
     ]
    }
   ],
   "source": [
    "# continue example: skip vowels\n",
    "text = \"Python\"\n",
    "for ch in text:\n",
    "    if ch in \"aeiou\":\n",
    "        continue\n",
    "    print(\"Consonant:\", ch)"
   ]
  },
  {
   "cell_type": "markdown",
   "id": "4244069f",
   "metadata": {},
   "source": [
    "## `pass`\n",
    "\n",
    "- Placeholder for future code — does nothing, avoids syntax errors.\n"
   ]
  },
  {
   "cell_type": "code",
   "execution_count": null,
   "id": "dac83e74",
   "metadata": {},
   "outputs": [],
   "source": [
    "for i in range(5):\n",
    "    pass  # We'll fill this later"
   ]
  },
  {
   "cell_type": "markdown",
   "id": "5e431872",
   "metadata": {},
   "source": [
    "## `else` with Loops\n",
    "\n",
    "- `else` runs after the loop finishes normally (no `break` used).\n",
    "- Useful for search patterns or completion messages.\n"
   ]
  },
  {
   "cell_type": "code",
   "execution_count": 53,
   "id": "4dbb9609",
   "metadata": {},
   "outputs": [
    {
     "name": "stdout",
     "output_type": "stream",
     "text": [
      "2\n",
      "3\n",
      "4\n",
      "5\n",
      "Loop completed without break.\n"
     ]
    }
   ],
   "source": [
    "for n in range(2, 6):\n",
    "    if n == 0:\n",
    "        break\n",
    "    print(n)\n",
    "else:\n",
    "    print(\"Loop completed without break.\")\n"
   ]
  },
  {
   "cell_type": "markdown",
   "id": "33b9dcfe",
   "metadata": {},
   "source": [
    "## Nested Loops\n",
    "\n",
    "- You can place a loop inside another loop.\n",
    "- Useful for generating patterns or working with multi-step processes.\n"
   ]
  },
  {
   "cell_type": "code",
   "execution_count": 54,
   "id": "56f7548d",
   "metadata": {},
   "outputs": [
    {
     "name": "stdout",
     "output_type": "stream",
     "text": [
      "1 x 1 = 1\n",
      "1 x 2 = 2\n",
      "1 x 3 = 3\n",
      "---\n",
      "2 x 1 = 2\n",
      "2 x 2 = 4\n",
      "2 x 3 = 6\n",
      "---\n",
      "3 x 1 = 3\n",
      "3 x 2 = 6\n",
      "3 x 3 = 9\n",
      "---\n"
     ]
    }
   ],
   "source": [
    "for i in range(1, 4):\n",
    "    for j in range(1, 4):\n",
    "        print(f\"{i} x {j} = {i*j}\")\n",
    "    print(\"---\")\n"
   ]
  },
  {
   "cell_type": "markdown",
   "id": "bedfaa65",
   "metadata": {},
   "source": [
    "# `4` Collections"
   ]
  },
  {
   "cell_type": "markdown",
   "id": "f467beb2",
   "metadata": {},
   "source": [
    "**You’ll learn:**\n",
    "- When to use each built-in collection: `list`, `tuple`, `dict`, `set`\n",
    "- Creation, indexing/slicing, iteration\n",
    "- Core methods (cheat tables)\n",
    "- Mutability & copying pitfalls\n",
    "- Comprehensions (list / dict / set)\n"
   ]
  },
  {
   "cell_type": "markdown",
   "id": "cba622d2",
   "metadata": {},
   "source": [
    "### Mental Model (use this to pick the right tool)\n",
    "\n",
    "| Type   | Ordered | Mutable | Duplicates | Access Pattern | Typical Use |\n",
    "|---     |---      |---      |---         |---             |---|\n",
    "| list   | Yes     | Yes     | Yes        | by index       | sequences you will modify/reorder |\n",
    "| tuple  | Yes     | No      | Yes        | by index       | fixed records, function returns |\n",
    "| dict   | No*     | Yes     | Keys: No   | by key         | lookups/records by unique key |\n",
    "| set    | No      | Yes     | No         | membership     | uniqueness, set algebra |\n",
    "\n",
    "\\*Dicts preserve insertion order in modern Python.\n"
   ]
  },
  {
   "cell_type": "markdown",
   "id": "201af300",
   "metadata": {},
   "source": [
    "## Lists\n",
    "\n",
    "- Ordered, **mutable** sequence.\n",
    "- Best for things you’ll append/remove/sort.\n"
   ]
  },
  {
   "cell_type": "code",
   "execution_count": 55,
   "id": "36f9d807",
   "metadata": {},
   "outputs": [
    {
     "name": "stdout",
     "output_type": "stream",
     "text": [
      "10 40\n",
      "[20, 30]\n",
      "[40, 30, 20, 10]\n"
     ]
    }
   ],
   "source": [
    "nums = [10, 20, 30, 40]\n",
    "print(nums[0], nums[-1])     # 10 40\n",
    "print(nums[1:3])             # [20, 30]\n",
    "print(nums[::-1])            # reversed copy\n"
   ]
  },
  {
   "cell_type": "markdown",
   "id": "0ea3c9fc",
   "metadata": {},
   "source": [
    "### Common List Methods\n",
    "\n",
    "| Method                 | Effect / Note                       |\n",
    "|---                     |---                                   |\n",
    "| `append(x)`            | add at end                           |\n",
    "| `extend(iterable)`     | add many                            |\n",
    "| `insert(i, x)`         | insert at index                      |\n",
    "| `pop([i])`             | remove & return (default last)       |\n",
    "| `remove(x)`            | remove first match (ValueError if missing) |\n",
    "| `clear()`              | remove all                           |\n",
    "| `index(x[, start])`    | first index of `x`                   |\n",
    "| `count(x)`             | occurrences of `x`                   |\n",
    "| `sort(key=None, reverse=False)` | in-place sort              |\n",
    "| `reverse()`            | in-place reverse                     |\n"
   ]
  },
  {
   "cell_type": "code",
   "execution_count": 56,
   "id": "7f6f7e27",
   "metadata": {},
   "outputs": [
    {
     "name": "stdout",
     "output_type": "stream",
     "text": [
      "[3, 1, 2, 4]\n",
      "[3, 1, 2, 4, 5, 6]\n",
      "[3, 9, 1, 2, 4, 5, 6]\n",
      "[3, 1, 2, 4, 5, 6]\n",
      "6 [3, 1, 2, 4, 5]\n",
      "[1, 2, 3, 4, 5]\n",
      "[5, 4, 3, 2, 1]\n"
     ]
    }
   ],
   "source": [
    "a = [3, 1, 2]\n",
    "a.append(4); print(a)           # [3,1,2,4]\n",
    "a.extend([5, 6]); print(a)      # [3,1,2,4,5,6]\n",
    "a.insert(1, 9); print(a)        # [3,9,1,2,4,5,6]\n",
    "a.remove(9); print(a)           # remove first 9\n",
    "last = a.pop(); print(last, a)  # 6 [3,1,2,4,5]\n",
    "a.sort(); print(a)              # [1,2,3,4,5]\n",
    "a.reverse(); print(a)           # [5,4,3,2,1]\n"
   ]
  },
  {
   "cell_type": "markdown",
   "id": "86309c4e",
   "metadata": {},
   "source": [
    "### Mutability & Copying (Important)\n",
    "\n",
    "- `b = a` **does not copy**; it aliases the same list.\n",
    "- Shallow copy: `a.copy()` or `a[:]` or `list(a)`\n",
    "- Nested lists require `copy.deepcopy` for a full copy.\n"
   ]
  },
  {
   "cell_type": "code",
   "execution_count": 57,
   "id": "0ccba677",
   "metadata": {},
   "outputs": [
    {
     "name": "stdout",
     "output_type": "stream",
     "text": [
      "a: [99, [42, 3]]\n",
      "b (alias): [99, [42, 3]]\n",
      "c (shallow): [1, [42, 3]]\n",
      "d (deep): [1, [2, 3]]\n"
     ]
    }
   ],
   "source": [
    "import copy\n",
    "\n",
    "a = [1, [2, 3]]\n",
    "b = a                  # alias\n",
    "c = a.copy()           # shallow\n",
    "d = copy.deepcopy(a)   # deep\n",
    "\n",
    "a[0] = 99\n",
    "a[1][0] = 42\n",
    "\n",
    "print(\"a:\", a)\n",
    "print(\"b (alias):\", b)\n",
    "print(\"c (shallow):\", c)   # inner list changed\n",
    "print(\"d (deep):\", d)      # fully independent\n"
   ]
  },
  {
   "cell_type": "markdown",
   "id": "0ae2b041",
   "metadata": {},
   "source": [
    "### List Comprehensions\n",
    "\n",
    "- Compact way to build lists from iterables.\n",
    "- Syntax: `[expr for x in iterable if condition]`\n"
   ]
  },
  {
   "cell_type": "code",
   "execution_count": 59,
   "id": "0cda8528",
   "metadata": {},
   "outputs": [
    {
     "name": "stdout",
     "output_type": "stream",
     "text": [
      "[0, 1, 4, 9, 16]\n",
      "[0, 2, 4, 6, 8]\n"
     ]
    }
   ],
   "source": [
    "squares = [n*n for n in range(5)]\n",
    "evens = [n for n in range(10) if n % 2 == 0]\n",
    "print(squares)\n",
    "print(evens)\n"
   ]
  },
  {
   "cell_type": "markdown",
   "id": "463ace2c",
   "metadata": {},
   "source": [
    "## Tuples\n",
    "\n",
    "- Ordered, **immutable** sequence.\n",
    "- Great for fixed records and safe returns from functions.\n",
    "- Lighter-weight than lists; hashable **if** all elements are hashable.\n"
   ]
  },
  {
   "cell_type": "code",
   "execution_count": 60,
   "id": "02fb2be7",
   "metadata": {},
   "outputs": [
    {
     "name": "stdout",
     "output_type": "stream",
     "text": [
      "10 20\n",
      "<class 'tuple'> <class 'int'>\n",
      "2 1\n"
     ]
    }
   ],
   "source": [
    "point = (10, 20)\n",
    "x, y = point\n",
    "print(x, y)\n",
    "\n",
    "singleton = (42,)   # trailing comma matters\n",
    "not_tuple = (42)    # just an int\n",
    "print(type(singleton), type(not_tuple))\n",
    "\n",
    "# swap without temp:\n",
    "a, b = 1, 2\n",
    "a, b = b, a\n",
    "print(a, b)\n"
   ]
  },
  {
   "cell_type": "markdown",
   "id": "aa972594",
   "metadata": {},
   "source": [
    "### Tuple use-cases\n",
    "- Return multiple values from a function.\n",
    "- Keys in dicts (when elements are hashable).\n",
    "- As read-only records (less accidental mutation).\n"
   ]
  },
  {
   "cell_type": "markdown",
   "id": "c99ad3fb",
   "metadata": {},
   "source": [
    "## Dictionaries\n",
    "\n",
    "- Mapping of **unique keys** → values.\n",
    "- Keys must be hashable (e.g., str, int, tuple of immutables).\n",
    "- Insertion order preserved.\n"
   ]
  },
  {
   "cell_type": "code",
   "execution_count": null,
   "id": "f32d766b",
   "metadata": {},
   "outputs": [
    {
     "name": "stdout",
     "output_type": "stream",
     "text": [
      "Ali\n",
      "None\n",
      "N/A\n"
     ]
    }
   ],
   "source": [
    "user = {\"name\": \"Ali\", \"age\": 28}\n",
    "print(user[\"name\"])           # KeyError if missing\n",
    "print(user.get(\"role\"))       # None (safe)\n",
    "print(user.get(\"role\", \"Not found\"))# default\n"
   ]
  },
  {
   "cell_type": "markdown",
   "id": "923c6d37",
   "metadata": {},
   "source": [
    "### Common Dict Methods\n",
    "\n",
    "| Method            | Effect / Note                         |\n",
    "|---                |---                                     |\n",
    "| `get(k, default)` | safe read                              |\n",
    "| `keys()`          | view of keys                           |\n",
    "| `values()`        | view of values                         |\n",
    "| `items()`         | view of (key, value) pairs             |\n",
    "| `pop(k[, d])`     | remove & return (KeyError if missing unless default) |\n",
    "| `popitem()`       | remove & return last inserted pair     |\n",
    "| `setdefault(k, d)`| get value or set default               |\n",
    "| `update(m)`       | merge/update from mapping/iterables    |\n",
    "| `clear()`         | remove all                             |\n"
   ]
  },
  {
   "cell_type": "code",
   "execution_count": 66,
   "id": "e8518001",
   "metadata": {},
   "outputs": [
    {
     "name": "stdout",
     "output_type": "stream",
     "text": [
      "dict_keys(['name', 'lang', 'level', 'country'])\n",
      "dict_values(['Ali', 'Python 3.12', 'beginner', 'EG'])\n",
      "dict_items([('name', 'Ali'), ('lang', 'Python 3.12'), ('level', 'beginner'), ('country', 'EG')])\n",
      "--------------------------------------------------\n",
      "K: name\n",
      "K: lang\n",
      "K: level\n",
      "K: country\n",
      "--------------------------------------------------\n",
      "V: Ali\n",
      "V: Python 3.12\n",
      "V: beginner\n",
      "V: EG\n",
      "--------------------------------------------------\n",
      "name -> Ali\n",
      "lang -> Python 3.12\n",
      "level -> beginner\n",
      "country -> EG\n",
      "--------------------------------------------------\n",
      "removed: EG\n",
      "{'name': 'Ali', 'lang': 'Python 3.12', 'level': 'beginner'}\n"
     ]
    }
   ],
   "source": [
    "profile = {\"name\": \"Ali\", \"lang\": \"Python\"}\n",
    "profile[\"level\"] = \"beginner\"\n",
    "profile.update({\"lang\": \"Python 3.12\", \"country\": \"EG\"})\n",
    "\n",
    "print(profile.keys())\n",
    "print(profile.values())\n",
    "print(profile.items())\n",
    "print('-'*50)\n",
    "\n",
    "for k in profile.keys():\n",
    "    print(\"K:\", k)\n",
    "\n",
    "print('-'*50)\n",
    "\n",
    "for v in profile.values():\n",
    "    print(\"V:\", v)\n",
    "\n",
    "print('-'*50)\n",
    "for k, v in profile.items():\n",
    "    print(f\"{k} -> {v}\")\n",
    "\n",
    "print('-'*50)\n",
    "removed = profile.pop(\"country\", \"NA\")\n",
    "print(\"removed:\", removed)\n",
    "print(profile)\n"
   ]
  },
  {
   "cell_type": "markdown",
   "id": "d99d6771",
   "metadata": {},
   "source": [
    "### Important notes\n",
    "- Membership (`in`) checks **keys**, not values.\n",
    "- Keys must be hashable; lists are not, tuples of immutables are.\n"
   ]
  },
  {
   "cell_type": "markdown",
   "id": "1b44fd13",
   "metadata": {},
   "source": [
    "## Sets\n",
    "\n",
    "- Unordered collection of **unique** elements.\n",
    "- Fast membership tests and set algebra.\n"
   ]
  },
  {
   "cell_type": "code",
   "execution_count": 67,
   "id": "022b9b3c",
   "metadata": {},
   "outputs": [
    {
     "name": "stdout",
     "output_type": "stream",
     "text": [
      "{1, 2, 3}\n",
      "True False\n",
      "<class 'set'>\n"
     ]
    }
   ],
   "source": [
    "s = {1, 2, 2, 3}\n",
    "print(s)                # {1, 2, 3}\n",
    "print(2 in s, 5 in s)   # True False\n",
    "\n",
    "empty_set = set()       # {} is a dict, not a set\n",
    "print(type(empty_set))\n"
   ]
  },
  {
   "cell_type": "markdown",
   "id": "cbedf177",
   "metadata": {},
   "source": [
    "### Set Operations\n",
    "\n",
    "| Operation            | Syntax            | Meaning                 |\n",
    "|---                   |---                |---                      |\n",
    "| Union                | `a \\| b`           | either                  |\n",
    "| Intersection         | `a & b`           | both                    |\n",
    "| Difference           | `a - b`           | in `a` not in `b`       |\n",
    "| Symmetric difference | `a ^ b`           | in either, not both     |\n",
    "| Subset / Superset    | `<=`, `>=`        | containment relations   |\n"
   ]
  },
  {
   "cell_type": "code",
   "execution_count": 71,
   "id": "7317faad",
   "metadata": {},
   "outputs": [
    {
     "name": "stdout",
     "output_type": "stream",
     "text": [
      "Union {1, 2, 3, 4}\n",
      "Intersection {3}\n",
      "Difference {1, 2}\n",
      "Symmetric difference {1, 2, 4}\n",
      "Is (a) a subset of (a|b)? True\n"
     ]
    }
   ],
   "source": [
    "a = {1, 2, 3}\n",
    "b = {3, 4}\n",
    "print('Union', a | b)\n",
    "print('Intersection', a & b)\n",
    "print('Difference', a - b)\n",
    "print('Symmetric difference', a ^ b)\n",
    "print('Is (a) a subset of (a|b)?', a <= (a | b))\n"
   ]
  },
  {
   "cell_type": "markdown",
   "id": "83564571",
   "metadata": {},
   "source": [
    "### Common Set Methods\n",
    "\n",
    "| Method               | Effect / Note                     |\n",
    "|---                   |---                                 |\n",
    "| `add(x)`             | add element                        |\n",
    "| `update(iter)`       | add many                           |\n",
    "| `remove(x)`          | remove (KeyError if missing)       |\n",
    "| `discard(x)`         | remove if present, else ignore     |\n",
    "| `pop()`              | remove & return arbitrary element  |\n",
    "| `clear()`            | remove all                         |\n"
   ]
  },
  {
   "cell_type": "code",
   "execution_count": null,
   "id": "3f788bd0",
   "metadata": {},
   "outputs": [
    {
     "name": "stdout",
     "output_type": "stream",
     "text": [
      "{10, 20, 30}\n",
      "{10, 20, 30}\n",
      "popped: 10 remaining: {20, 30}\n"
     ]
    }
   ],
   "source": [
    "s = set()\n",
    "s.add(10); s.update({20, 30})\n",
    "print(s)\n",
    "s.discard(99)          # safe\n",
    "print(s)\n",
    "x = s.pop()\n",
    "print(\"popped:\", x, \"remaining:\", s)\n"
   ]
  },
  {
   "cell_type": "markdown",
   "id": "e6342001",
   "metadata": {},
   "source": [
    "# `5` Functions"
   ]
  },
  {
   "cell_type": "markdown",
   "id": "1e5b1acd",
   "metadata": {},
   "source": [
    "**You’ll learn:**\n",
    "- Defining and calling functions\n",
    "- Parameters & arguments (positional, keyword, defaults)\n",
    "- Return values\n",
    "- Scope (`local` vs `global`)\n",
    "- Docstrings for documentation\n",
    "- Lambda (anonymous) functions\n",
    "- Best practices\n"
   ]
  },
  {
   "cell_type": "markdown",
   "id": "db79bcea",
   "metadata": {},
   "source": [
    "## Why Functions?\n",
    "\n",
    "- **Avoid repetition** — write once, use many times.\n",
    "- **Organize code** — group related logic.\n",
    "- **Improve readability** — give meaningful names to code blocks.\n"
   ]
  },
  {
   "cell_type": "markdown",
   "id": "064ea333",
   "metadata": {},
   "source": [
    "## Defining & Calling Functions\n",
    "\n",
    "Syntax:\n",
    "```python\n",
    "def name(parameters):\n",
    "    \"\"\"Docstring explaining the function.\"\"\"\n",
    "    body\n",
    "    return result  # optional\n"
   ]
  },
  {
   "cell_type": "code",
   "execution_count": 73,
   "id": "893a9448",
   "metadata": {},
   "outputs": [
    {
     "name": "stdout",
     "output_type": "stream",
     "text": [
      "Hello from Python!\n",
      "Hello from Python!\n"
     ]
    }
   ],
   "source": [
    "def greet():\n",
    "    \"\"\"Prints a friendly greeting.\"\"\"\n",
    "    print(\"Hello from Python!\")\n",
    "\n",
    "greet()\n",
    "greet()"
   ]
  },
  {
   "cell_type": "markdown",
   "id": "a4aab827",
   "metadata": {},
   "source": [
    "## Parameters & Arguments\n",
    "\n",
    "- **Parameters** are placeholders in the function definition.\n",
    "- **Arguments** are actual values you pass when calling.\n",
    "\n",
    "Types:\n",
    "1. **Positional arguments** → match parameters by position.\n",
    "2. **Keyword arguments** → match parameters by name.\n",
    "3. **Default values** → if not provided, use default.\n",
    "4. **Arbitrary args** → `*args` for variable number of positional args.\n",
    "5. **Arbitrary kwargs** → `**kwargs` for variable number of keyword args.\n"
   ]
  },
  {
   "cell_type": "code",
   "execution_count": 75,
   "id": "0c58e954",
   "metadata": {},
   "outputs": [
    {
     "name": "stdout",
     "output_type": "stream",
     "text": [
      "Ali is 28 years old.\n",
      "Ali is 28 years old.\n"
     ]
    }
   ],
   "source": [
    "def describe_person(name, age):\n",
    "    print(f\"{name} is {age} years old.\")\n",
    "\n",
    "# positional\n",
    "describe_person(\"Ali\", 28)\n",
    "\n",
    "# keyword\n",
    "describe_person(age=28, name=\"Ali\")"
   ]
  },
  {
   "cell_type": "code",
   "execution_count": null,
   "id": "5460df52",
   "metadata": {},
   "outputs": [],
   "source": [
    "# default\n",
    "def power(base, exponent=2):\n",
    "    return base ** exponent\n",
    "\n",
    "print(power(3))\n",
    "print(power(3, 3))"
   ]
  },
  {
   "cell_type": "code",
   "execution_count": 78,
   "id": "db01ce88",
   "metadata": {},
   "outputs": [
    {
     "name": "stdout",
     "output_type": "stream",
     "text": [
      "10\n"
     ]
    }
   ],
   "source": [
    "# *args\n",
    "def sum_all(*nums):\n",
    "    s = 0\n",
    "    for num in nums:\n",
    "        s+= num\n",
    "    return s\n",
    "\n",
    "print(sum_all(1, 2, 3, 4))"
   ]
  },
  {
   "cell_type": "code",
   "execution_count": 77,
   "id": "84361232",
   "metadata": {},
   "outputs": [
    {
     "name": "stdout",
     "output_type": "stream",
     "text": [
      "name -> Ali\n",
      "country -> Egypt\n",
      "lang -> Python\n"
     ]
    }
   ],
   "source": [
    "# **kwargs\n",
    "def show_info(**info):\n",
    "    for k, v in info.items():\n",
    "        print(f\"{k} -> {v}\")\n",
    "\n",
    "show_info(name=\"Ali\", country=\"Egypt\", lang=\"Python\")"
   ]
  },
  {
   "cell_type": "markdown",
   "id": "b8d38b2f",
   "metadata": {},
   "source": [
    "## Return Values\n",
    "\n",
    "- Use `return` to send data back to the caller.\n",
    "- Without `return`, a function returns `None` by default.\n",
    "- You can return multiple values (tuple packing/unpacking).\n"
   ]
  },
  {
   "cell_type": "code",
   "execution_count": 79,
   "id": "934d002e",
   "metadata": {},
   "outputs": [
    {
     "name": "stdout",
     "output_type": "stream",
     "text": [
      "5\n",
      "5.0\n",
      "None\n",
      "min: 4 max: 9\n"
     ]
    }
   ],
   "source": [
    "def add(a, b):\n",
    "    return a + b\n",
    "\n",
    "def divide(a, b):\n",
    "    if b == 0:\n",
    "        return None\n",
    "    return a / b\n",
    "\n",
    "def min_max(a, b):\n",
    "    return min(a, b), max(a, b)\n",
    "\n",
    "print(add(2, 3))\n",
    "print(divide(10, 2))\n",
    "print(divide(10, 0))\n",
    "mn, mx = min_max(4, 9)\n",
    "print(\"min:\", mn, \"max:\", mx)\n"
   ]
  },
  {
   "cell_type": "markdown",
   "id": "92f73ba7",
   "metadata": {},
   "source": [
    "## Variable Scope\n",
    "\n",
    "- **Local**: variables inside a function, not visible outside.\n",
    "- **Global**: variables declared outside functions.\n",
    "- Use `global` keyword inside a function to modify a global var (avoid unless necessary).\n"
   ]
  },
  {
   "cell_type": "code",
   "execution_count": 80,
   "id": "a137e792",
   "metadata": {},
   "outputs": [
    {
     "name": "stdout",
     "output_type": "stream",
     "text": [
      "Inside local: 99\n",
      "After local call: 10\n",
      "Inside global change: 42\n",
      "After global change: 42\n"
     ]
    }
   ],
   "source": [
    "x = 10  # global\n",
    "\n",
    "def change_local():\n",
    "    x = 99\n",
    "    print(\"Inside local:\", x)\n",
    "\n",
    "def change_global():\n",
    "    global x\n",
    "    x = 42\n",
    "    print(\"Inside global change:\", x)\n",
    "\n",
    "change_local()\n",
    "print(\"After local call:\", x)\n",
    "\n",
    "change_global()\n",
    "print(\"After global change:\", x)\n"
   ]
  },
  {
   "cell_type": "markdown",
   "id": "1e555cab",
   "metadata": {},
   "source": [
    "## Lambda Functions\n",
    "\n",
    "- Short, anonymous functions.\n",
    "- Syntax: `lambda parameters: expression`\n",
    "- Use for quick one-off functions, not for complex logic.\n"
   ]
  },
  {
   "cell_type": "code",
   "execution_count": 81,
   "id": "902211e9",
   "metadata": {},
   "outputs": [
    {
     "name": "stdout",
     "output_type": "stream",
     "text": [
      "25\n",
      "10\n",
      "[9, 5, 2]\n"
     ]
    }
   ],
   "source": [
    "square = lambda x: x**2\n",
    "print(square(5))\n",
    "\n",
    "adder = lambda a, b: a + b\n",
    "print(adder(3, 7))\n",
    "\n",
    "# with built-in functions\n",
    "nums = [5, 2, 9]\n",
    "print(sorted(nums, key=lambda x: -x))\n"
   ]
  },
  {
   "cell_type": "markdown",
   "id": "23f3ba7c",
   "metadata": {},
   "source": [
    "## Best Practices for Functions\n",
    "\n",
    "- Use descriptive names (verb for actions, noun for objects).\n",
    "- Keep functions small and focused (do one thing well).\n",
    "- Avoid modifying global variables inside functions.\n",
    "- Prefer returning values instead of printing them (gives flexibility).\n"
   ]
  },
  {
   "cell_type": "markdown",
   "id": "5fe79fbb",
   "metadata": {},
   "source": [
    "\n",
    "# `6` Mini-Project: Prime Numbers Dictionary Project\n",
    "\n",
    "## Goal\n",
    "Create a Python program that:\n",
    "1. Generates all prime numbers up to a user-specified limit.\n",
    "2. Stores them in a dictionary with their **order** as the key.\n",
    "3. Allows the user to view all primes or look up a prime by its position.\n",
    "\n",
    "---\n",
    "\n",
    "## Features\n",
    "1. **Check if a number is prime** using a function.\n",
    "2. **Generate primes** up to a given limit using a function that returns a dictionary:\n",
    "   ```python\n",
    "   {1: 2, 2: 3, 3: 5, 4: 7, ...}\n",
    "   ```\n",
    "3. **Display all primes** in the dictionary.\n",
    "4. **Look up a prime** by its position.\n",
    "5. **Menu loop** for interaction until the user exits.\n",
    "\n",
    "---\n",
    "\n",
    "## Example Program Flow\n",
    "```\n",
    "Enter upper limit for primes: 20\n",
    "Prime dictionary created with 8 entries.\n",
    "\n",
    "Menu:\n",
    "1. View all primes\n",
    "2. Get prime by position\n",
    "3. Exit\n",
    "\n",
    "Choose: 1\n",
    "{1: 2, 2: 3, 3: 5, 4: 7, 5: 11, 6: 13, 7: 17, 8: 19}\n",
    "\n",
    "Choose: 2\n",
    "Enter position: 4\n",
    "Prime at position 4 is 7\n",
    "```\n"
   ]
  }
 ],
 "metadata": {
  "kernelspec": {
   "display_name": "Python 3",
   "language": "python",
   "name": "python3"
  },
  "language_info": {
   "codemirror_mode": {
    "name": "ipython",
    "version": 3
   },
   "file_extension": ".py",
   "mimetype": "text/x-python",
   "name": "python",
   "nbconvert_exporter": "python",
   "pygments_lexer": "ipython3",
   "version": "3.11.9"
  }
 },
 "nbformat": 4,
 "nbformat_minor": 5
}
