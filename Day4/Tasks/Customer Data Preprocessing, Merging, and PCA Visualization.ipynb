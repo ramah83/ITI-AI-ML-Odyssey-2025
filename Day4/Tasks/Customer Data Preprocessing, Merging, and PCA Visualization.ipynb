{
 "cells": [
  {
   "cell_type": "markdown",
   "id": "54d5d4d5",
   "metadata": {},
   "source": [
    "<div style=\"text-align: center;\">\n",
    "    <h1 style=\"\n",
    "        background: linear-gradient(135deg, hsla(312, 53%, 25%, 1.00), #8e1e8aff); \n",
    "        color: white; \n",
    "        padding: 15px 30px; \n",
    "        border-radius: 500px; \n",
    "        font-family: 'Segoe UI', Arial, sans-serif; \n",
    "        box-shadow: 0 4px 15px rgba(0,0,0,0.3);\n",
    "        display: inline-block;\n",
    "    \">\n",
    "        Customer Data Preprocessing, Merging, and PCA Visualization\n",
    "    </h1>\n",
    "</div>\n"
   ]
  },
  {
   "cell_type": "markdown",
   "id": "11803a9b",
   "metadata": {},
   "source": [
    "<h3 style=\"color:#DA0EFE\">1. Import The Required Libraries</h3>"
   ]
  },
  {
   "cell_type": "code",
   "execution_count": 2,
   "id": "652d4bce",
   "metadata": {},
   "outputs": [],
   "source": [
    "import pandas as pd\n",
    "import numpy as np\n",
    "from sklearn.decomposition import PCA\n",
    "from sklearn.preprocessing import StandardScaler, OneHotEncoder\n",
    "import matplotlib.pyplot as plt"
   ]
  },
  {
   "cell_type": "markdown",
   "id": "63774e3e",
   "metadata": {},
   "source": [
    "<h2 style=\"color:#DA0EFE; display:inline;\">\n",
    "  <strong>2.Data Loading </strong>\n",
    "</h2>\n",
    "<h3 style=\"color:#DA0EFE; display:inline; margin-left:8px;\">\n",
    "(Customer data with some missing values)\n",
    "</h3>\n"
   ]
  },
  {
   "cell_type": "code",
   "execution_count": 3,
   "id": "8d2264f4",
   "metadata": {},
   "outputs": [],
   "source": [
    "data_customers = {\n",
    "    'customer_id': range(1, 11),\n",
    "    'age': [25, 30, 35, 40, np.nan, 50, 55, 60, 65, 70],\n",
    "    'income': [5000, 6000, 5500, 7000, 8000, 8500, 9000, 9500, 10000, 11000],\n",
    "    'spending': [200, 250, 180, 300, 350, 400, 450, 500, 550, 600],\n",
    "    'city': ['Cairo', 'Alexandria', 'Cairo', 'Giza', 'Alexandria', 'Cairo', 'Giza', 'Cairo', 'Alexandria', 'Giza']\n",
    "}"
   ]
  },
  {
   "cell_type": "markdown",
   "id": "8693092f",
   "metadata": {},
   "source": [
    "<h3 style=\"color:#DA0EFE\">3. Convert the data into a DataFrame </h3>"
   ]
  },
  {
   "cell_type": "code",
   "execution_count": 4,
   "id": "00491dcd",
   "metadata": {},
   "outputs": [],
   "source": [
    "df_customers = pd.DataFrame(data_customers)"
   ]
  },
  {
   "cell_type": "markdown",
   "id": "aac8cb28",
   "metadata": {},
   "source": [
    "<h3 style=\"color:#DA0EFE\">4. Display the first 5 rows of the data </h3>"
   ]
  },
  {
   "cell_type": "code",
   "execution_count": 5,
   "id": "b90d6cf6",
   "metadata": {},
   "outputs": [
    {
     "name": "stdout",
     "output_type": "stream",
     "text": [
      "Original Data:\n",
      "   customer_id   age  income  spending        city\n",
      "0            1  25.0    5000       200       Cairo\n",
      "1            2  30.0    6000       250  Alexandria\n",
      "2            3  35.0    5500       180       Cairo\n",
      "3            4  40.0    7000       300        Giza\n",
      "4            5   NaN    8000       350  Alexandria\n"
     ]
    }
   ],
   "source": [
    "print(\"Original Data:\")\n",
    "print(df_customers.head())"
   ]
  },
  {
   "cell_type": "markdown",
   "id": "9f55c840",
   "metadata": {},
   "source": [
    "<h2 style=\"color:#DA0EFE; display:inline;\">\n",
    "  <strong>5. Data Cleaning</strong>\n",
    "</h2>\n",
    "<h3 style=\"color:#DA0EFE; display:inline; margin-left:8px;\">\n",
    "Handling Missing Values (NaN) & Replacing missing values in \"age\" with the mean value\n",
    "</h3>\n"
   ]
  },
  {
   "cell_type": "code",
   "execution_count": null,
   "id": "5997e26a",
   "metadata": {},
   "outputs": [],
   "source": [
    "df_customers['age'].fillna(df_customers['age'].mean(), inplace=True)"
   ]
  },
  {
   "cell_type": "markdown",
   "id": "b5003151",
   "metadata": {},
   "source": [
    "<h3 style=\"color:#DA0EFE\">6.Removing duplicate customers (in case there are any duplicate entries)</h3>"
   ]
  },
  {
   "cell_type": "code",
   "execution_count": 7,
   "id": "050fbfd2",
   "metadata": {},
   "outputs": [],
   "source": [
    "df_customers.drop_duplicates(subset=['customer_id'], keep='first', inplace=True)"
   ]
  },
  {
   "cell_type": "markdown",
   "id": "44acf146",
   "metadata": {},
   "source": [
    "<h3 style=\"color:#DA0EFE\">7. Display the cleaned data</h3>"
   ]
  },
  {
   "cell_type": "code",
   "execution_count": 8,
   "id": "c49c2c32",
   "metadata": {},
   "outputs": [
    {
     "name": "stdout",
     "output_type": "stream",
     "text": [
      "\n",
      "Cleaned Data:\n",
      "   customer_id        age  income  spending        city\n",
      "0            1  25.000000    5000       200       Cairo\n",
      "1            2  30.000000    6000       250  Alexandria\n",
      "2            3  35.000000    5500       180       Cairo\n",
      "3            4  40.000000    7000       300        Giza\n",
      "4            5  47.777778    8000       350  Alexandria\n"
     ]
    }
   ],
   "source": [
    "print(\"\\nCleaned Data:\")\n",
    "print(df_customers.head())"
   ]
  },
  {
   "cell_type": "markdown",
   "id": "c07b5767",
   "metadata": {},
   "source": [
    "<h2 style=\"color:#DA0EFE; display:inline;\">\n",
    "  <strong>8. Feature Selection</strong>\n",
    "</h2>\n",
    "<h3 style=\"color:#DA0EFE; display:inline; margin-left:8px;\">\n",
    " Selecting only the relevant columns\n",
    "</h3>\n"
   ]
  },
  {
   "cell_type": "code",
   "execution_count": 9,
   "id": "5a9a2bc9",
   "metadata": {},
   "outputs": [
    {
     "name": "stdout",
     "output_type": "stream",
     "text": [
      "\n",
      "Data After Feature Selection:\n",
      "   customer_id        age  income  spending        city\n",
      "0            1  25.000000    5000       200       Cairo\n",
      "1            2  30.000000    6000       250  Alexandria\n",
      "2            3  35.000000    5500       180       Cairo\n",
      "3            4  40.000000    7000       300        Giza\n",
      "4            5  47.777778    8000       350  Alexandria\n"
     ]
    }
   ],
   "source": [
    "df_selected = df_customers[['customer_id', 'age', 'income', 'spending', 'city']]\n",
    "print(\"\\nData After Feature Selection:\")\n",
    "print(df_selected.head())"
   ]
  },
  {
   "cell_type": "markdown",
   "id": "a260f4a2",
   "metadata": {},
   "source": [
    "<h2 style=\"color:#DA0EFE; display:inline;\">\n",
    "  <strong>9. One-Hot Encoding</strong>\n",
    "</h2>\n",
    "<h3 style=\"color:#DA0EFE; display:inline; margin-left:8px;\">\n",
    "Encoding categorical data (city column)\n",
    "</h3>\n"
   ]
  },
  {
   "cell_type": "code",
   "execution_count": 10,
   "id": "22a046e0",
   "metadata": {},
   "outputs": [],
   "source": [
    "df_encoded = pd.get_dummies(df_selected, columns=['city'], drop_first=True)"
   ]
  },
  {
   "cell_type": "markdown",
   "id": "bdd1befe",
   "metadata": {},
   "source": [
    "<h3 style=\"color:#DA0EFE\">10.Display the data after encoding</h3>"
   ]
  },
  {
   "cell_type": "code",
   "execution_count": 11,
   "id": "164d6735",
   "metadata": {},
   "outputs": [
    {
     "name": "stdout",
     "output_type": "stream",
     "text": [
      "\n",
      "Data After One-Hot Encoding:\n",
      "   customer_id        age  income  spending  city_Cairo  city_Giza\n",
      "0            1  25.000000    5000       200        True      False\n",
      "1            2  30.000000    6000       250       False      False\n",
      "2            3  35.000000    5500       180        True      False\n",
      "3            4  40.000000    7000       300       False       True\n",
      "4            5  47.777778    8000       350       False      False\n"
     ]
    }
   ],
   "source": [
    "print(\"\\nData After One-Hot Encoding:\")\n",
    "print(df_encoded.head())"
   ]
  },
  {
   "cell_type": "markdown",
   "id": "ef7c9df9",
   "metadata": {},
   "source": [
    "<h2 style=\"color:#DA0EFE; display:inline;\">\n",
    "  <strong>11. Merging Data: Simulating a merge with another dataset (e.g., `df_orders`)</strong>\n",
    "</h2>\n",
    "<h3 style=\"color:#DA0EFE; display:inline; margin-left:8px;\">\n",
    "Let's assume we have another DataFrame containing customer orders\n",
    "</h3>\n"
   ]
  },
  {
   "cell_type": "code",
   "execution_count": 12,
   "id": "a5070ec8",
   "metadata": {},
   "outputs": [],
   "source": [
    "data_orders = {\n",
    "    'customer_id': [1, 2, 3, 4, 5, 6, 7, 8, 9, 10],\n",
    "    'order_id': [101, 102, 103, 104, 105, 106, 107, 108, 109, 110],\n",
    "    'order_total': [500, 600, 700, 800, 900, 1000, 1100, 1200, 1300, 1400]\n",
    "}\n",
    "df_orders = pd.DataFrame(data_orders)"
   ]
  },
  {
   "cell_type": "markdown",
   "id": "90d40b56",
   "metadata": {},
   "source": [
    "<h3 style=\"color:#DA0EFE\">12.Merging the customer data with the order data on 'customer_id'</h3>"
   ]
  },
  {
   "cell_type": "code",
   "execution_count": 13,
   "id": "685a7064",
   "metadata": {},
   "outputs": [],
   "source": [
    "df_merged = pd.merge(df_encoded, df_orders, on='customer_id', how='outer')"
   ]
  },
  {
   "cell_type": "markdown",
   "id": "7acc1e9d",
   "metadata": {},
   "source": [
    "<h3 style=\"color:#DA0EFE\">13.Display the merged data</h3>"
   ]
  },
  {
   "cell_type": "code",
   "execution_count": 14,
   "id": "628255ff",
   "metadata": {},
   "outputs": [
    {
     "name": "stdout",
     "output_type": "stream",
     "text": [
      "\n",
      "Merged Data:\n",
      "   customer_id        age  income  spending  city_Cairo  city_Giza  order_id  \\\n",
      "0            1  25.000000    5000       200        True      False       101   \n",
      "1            2  30.000000    6000       250       False      False       102   \n",
      "2            3  35.000000    5500       180        True      False       103   \n",
      "3            4  40.000000    7000       300       False       True       104   \n",
      "4            5  47.777778    8000       350       False      False       105   \n",
      "\n",
      "   order_total  \n",
      "0          500  \n",
      "1          600  \n",
      "2          700  \n",
      "3          800  \n",
      "4          900  \n"
     ]
    }
   ],
   "source": [
    "print(\"\\nMerged Data:\")\n",
    "print(df_merged.head())"
   ]
  },
  {
   "cell_type": "markdown",
   "id": "ee04ccaa",
   "metadata": {},
   "source": [
    "<h2 style=\"color:#DA0EFE; display:inline;\">\n",
    "  <strong>14.Dimensionality Reduction using PCA</strong>\n",
    "</h2>\n",
    "<h3 style=\"color:#DA0EFE; display:inline; margin-left:8px;\">\n",
    "Reducing the data from 3 dimensions (age, income, spending) to 2 dimensions (PCA1 and PCA2)\n",
    "</h3>\n"
   ]
  },
  {
   "cell_type": "code",
   "execution_count": 15,
   "id": "68c3a5bf",
   "metadata": {},
   "outputs": [],
   "source": [
    "pca = PCA(n_components=2)\n",
    "reduced_data = pca.fit_transform(df_merged[['age', 'income', 'spending', 'order_total']])"
   ]
  },
  {
   "cell_type": "markdown",
   "id": "389e2801",
   "metadata": {},
   "source": [
    "<h3 style=\"color:#DA0EFE\">15.Adding the reduced PCA components to the DataFrame</h3>"
   ]
  },
  {
   "cell_type": "code",
   "execution_count": 16,
   "id": "f2abc025",
   "metadata": {},
   "outputs": [],
   "source": [
    "df_merged['PCA1'] = reduced_data[:, 0]\n",
    "df_merged['PCA2'] = reduced_data[:, 1]"
   ]
  },
  {
   "cell_type": "markdown",
   "id": "0379664a",
   "metadata": {},
   "source": [
    "<h3 style=\"color:#DA0EFE\">16.Display the data after applying PCA</h3>"
   ]
  },
  {
   "cell_type": "code",
   "execution_count": 17,
   "id": "14a97dfb",
   "metadata": {},
   "outputs": [
    {
     "name": "stdout",
     "output_type": "stream",
     "text": [
      "\n",
      "Data After PCA:\n",
      "   customer_id        age  income  spending  city_Cairo  city_Giza  order_id  \\\n",
      "0            1  25.000000    5000       200        True      False       101   \n",
      "1            2  30.000000    6000       250       False      False       102   \n",
      "2            3  35.000000    5500       180        True      False       103   \n",
      "3            4  40.000000    7000       300       False       True       104   \n",
      "4            5  47.777778    8000       350       False      False       105   \n",
      "\n",
      "   order_total         PCA1        PCA2  \n",
      "0          500 -2989.289368  -13.973344  \n",
      "1          600 -1984.387364  -61.239238  \n",
      "2          700 -2468.096966  111.152625  \n",
      "3          800  -964.863697   -9.457842  \n",
      "4          900    40.058572  -56.605326  \n"
     ]
    }
   ],
   "source": [
    "print(\"\\nData After PCA:\")\n",
    "print(df_merged.head())"
   ]
  },
  {
   "cell_type": "markdown",
   "id": "f4b77397",
   "metadata": {},
   "source": [
    "<h2 style=\"color:#DA0EFE; display:inline;\">\n",
    "  <strong>17.Data Transformation</strong>\n",
    "</h2>\n",
    "<h3 style=\"color:#DA0EFE; display:inline; margin-left:8px;\">\n",
    "Standardizing the data using StandardScaler\n",
    "</h3>\n"
   ]
  },
  {
   "cell_type": "code",
   "execution_count": 18,
   "id": "f21597c9",
   "metadata": {},
   "outputs": [],
   "source": [
    "scaler = StandardScaler()\n",
    "df_merged[['age', 'income', 'spending', 'order_total']] = scaler.fit_transform(df_merged[['age', 'income', 'spending', 'order_total']])"
   ]
  },
  {
   "cell_type": "markdown",
   "id": "5c3feb03",
   "metadata": {},
   "source": [
    "<h3 style=\"color:#DA0EFE\">18.Display the standardized data</h3>"
   ]
  },
  {
   "cell_type": "code",
   "execution_count": 19,
   "id": "ebc51fa9",
   "metadata": {},
   "outputs": [
    {
     "name": "stdout",
     "output_type": "stream",
     "text": [
      "\n",
      "Data After Standardization:\n",
      "   customer_id       age    income  spending  city_Cairo  city_Giza  order_id  \\\n",
      "0            1 -1.588718 -1.539363 -1.279417        True      False       101   \n",
      "1            2 -1.239975 -1.017545 -0.920030       False      False       102   \n",
      "2            3 -0.891232 -1.278454 -1.423172        True      False       103   \n",
      "3            4 -0.542489 -0.495727 -0.560644       False       True       104   \n",
      "4            5  0.000000  0.026091 -0.201257       False      False       105   \n",
      "\n",
      "   order_total         PCA1        PCA2  \n",
      "0    -1.566699 -2989.289368  -13.973344  \n",
      "1    -1.218544 -1984.387364  -61.239238  \n",
      "2    -0.870388 -2468.096966  111.152625  \n",
      "3    -0.522233  -964.863697   -9.457842  \n",
      "4    -0.174078    40.058572  -56.605326  \n"
     ]
    }
   ],
   "source": [
    "print(\"\\nData After Standardization:\")\n",
    "print(df_merged.head())"
   ]
  },
  {
   "cell_type": "markdown",
   "id": "097b9ffc",
   "metadata": {},
   "source": [
    "<h3 style=\"color:#DA0EFE\">19.Visualizing the data after dimensionality reduction using PCA</h3>"
   ]
  },
  {
   "cell_type": "code",
   "execution_count": 20,
   "id": "2c965dee",
   "metadata": {},
   "outputs": [
    {
     "data": {
      "image/png": "[encoded data removed]",
      "text/plain": [
       "<Figure size 800x600 with 1 Axes>"
      ]
     },
     "metadata": {},
     "output_type": "display_data"
    }
   ],
   "source": [
    "plt.figure(figsize=(8, 6))\n",
    "plt.scatter(df_merged['PCA1'], df_merged['PCA2'], color='blue')\n",
    "plt.title('Customer Data After PCA')\n",
    "plt.xlabel('Principal Component 1')\n",
    "plt.ylabel('Principal Component 2')\n",
    "plt.grid(True)\n",
    "plt.show()"
   ]
  }
 ],
 "metadata": {
  "kernelspec": {
   "display_name": "base",
   "language": "python",
   "name": "python3"
  },
  "language_info": {
   "codemirror_mode": {
    "name": "ipython",
    "version": 3
   },
   "file_extension": ".py",
   "mimetype": "text/x-python",
   "name": "python",
   "nbconvert_exporter": "python",
   "pygments_lexer": "ipython3",
   "version": "3.13.5"
  }
 },
 "nbformat": 4,
 "nbformat_minor": 5
}
